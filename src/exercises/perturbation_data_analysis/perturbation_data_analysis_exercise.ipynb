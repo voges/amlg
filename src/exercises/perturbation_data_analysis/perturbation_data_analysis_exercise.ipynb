{
 "cells": [
  {
   "cell_type": "markdown",
   "metadata": {},
   "source": [
    "# **Analysis of Perturbations in Single-Cell RNA-Seq Data**"
   ]
  },
  {
   "cell_type": "markdown",
   "metadata": {},
   "source": [
    "First, we create a `PertData` object to load and handle perturbation data.\n",
    "We specify that we want to load the `norman` dataset."
   ]
  },
  {
   "cell_type": "code",
   "execution_count": 1,
   "metadata": {},
   "outputs": [
    {
     "name": "stdout",
     "output_type": "stream",
     "text": [
      "Creating dataset directory: data/norman\n",
      "Downloading dataset: norman\n",
      "Downloading: https://seafile.cloud.uni-hannover.de/d/5d6029c6eaaf410c8b01/files/?p=%2Fperturbation_data_analysis%2Fnorman%2Fperturb_processed.h5ad&dl=1 -> data/norman/perturb_processed.h5ad\n",
      "Total size: 2,228,610,012 bytes\n"
     ]
    },
    {
     "name": "stderr",
     "output_type": "stream",
     "text": [
      "100%|██████████| 2.23G/2.23G [02:41<00:00, 13.8MiB/s]\n"
     ]
    },
    {
     "name": "stdout",
     "output_type": "stream",
     "text": [
      "Download completed: data/norman/perturb_processed.h5ad\n",
      "Loading dataset: norman\n"
     ]
    }
   ],
   "source": [
    "import pertdata as pt\n",
    "\n",
    "norman = pt.PertData.from_repo(name=\"norman\", save_dir=\"data\")"
   ]
  },
  {
   "cell_type": "markdown",
   "metadata": {},
   "source": [
    "# Analysis and Preparation of Single-Cell RNA-Seq Data"
   ]
  },
  {
   "cell_type": "markdown",
   "metadata": {},
   "source": [
    "The actual perturbation data is stored in an [`AnnData`](https://anndata.readthedocs.io/en/latest/) object.\n",
    "`AnnData` is specifically designed for matrix-like data.\n",
    "By this we mean that we have $n$ observations, each of which can be represented as $d$-dimensional vectors, where each dimension corresponds to a variable or feature.\n",
    "Both the rows and columns of this $n \\times d$-matrix are special in the sense that they are indexed.\n",
    "For instance, in scRNA-seq data, each row corresponds to a cell with a barcode, and each column corresponds to a gene with a gene identifier.\n",
    "\n",
    "Here we show how to access the **gene expression matrix**, the **perturbations labels**, the **control labels**, and the **gene names**."
   ]
  },
  {
   "cell_type": "code",
   "execution_count": 2,
   "metadata": {},
   "outputs": [
    {
     "name": "stdout",
     "output_type": "stream",
     "text": [
      "PertData object\n",
      "    name: norman\n",
      "    path: data/norman\n",
      "    adata: AnnData object with n_obs x n_vars = 91205 x 5045\n",
      "AnnData object with n_obs × n_vars = 91205 × 5045\n",
      "    obs: 'condition', 'cell_type', 'dose_val', 'control', 'condition_name', 'condition_fixed'\n",
      "    var: 'gene_name'\n",
      "    uns: 'non_dropout_gene_idx', 'non_zeros_gene_idx', 'rank_genes_groups_cov_all', 'top_non_dropout_de_20', 'top_non_zero_de_20'\n",
      "    layers: 'counts'\n",
      "X.shape=(91205, 5045)\n",
      "y_pert.shape=(91205,)\n",
      "y_ctrl.shape=(91205,)\n",
      "gene_names.shape=(5045,)\n"
     ]
    }
   ],
   "source": [
    "print(norman)\n",
    "print(norman.adata)\n",
    "\n",
    "X = norman.adata.X\n",
    "y_pert = norman.adata.obs[\"condition\"]\n",
    "y_ctrl = norman.adata.obs[\"control\"]\n",
    "gene_names = norman.adata.var[\"gene_name\"]\n",
    "\n",
    "print(f\"X.shape={X.shape}\")  # type: ignore\n",
    "print(f\"y_pert.shape={y_pert.shape}\")\n",
    "print(f\"y_ctrl.shape={y_ctrl.shape}\")\n",
    "print(f\"gene_names.shape={gene_names.shape}\")"
   ]
  },
  {
   "cell_type": "markdown",
   "metadata": {},
   "source": [
    "In general, in a perturbation dataset, we find $k$ cell lines.\n",
    "Usually, one cell line remains unperturbed, and the others are cultivated separately (with different perturbations, i.e., gene knockouts).\n",
    "The mRNA of usually a few thousand cells of each cell line is sequenced (using a single-cell RNA sequencing protocol), generating the $n$ $d$-dimensional gene expression profiles.\n",
    "In particular, perturbation labels are available (i.e., we know which genes were knocked out in each cell line).\n",
    "\n",
    "Before we can take a closer look at our data, we need to fix the perturbation labels, because they might be expressed ambiguously (e.g., single-gene perturbations can be expressed as `ctrl+<gene1>` or `<gene1>+ctrl`, falsely leading to two distinct labels for the perturbation of `<gene1>`).\n",
    "\n",
    "The `PertData` object already contains the fixed perturbation labels, which were computed during initialization."
   ]
  },
  {
   "cell_type": "code",
   "execution_count": 3,
   "metadata": {},
   "outputs": [
    {
     "name": "stdout",
     "output_type": "stream",
     "text": [
      "Unique perturbations (unfixed): 284\n",
      "Unique perturbations (fixed): 237\n"
     ]
    }
   ],
   "source": [
    "print(f\"Unique perturbations (unfixed): {len(set(norman.adata.obs['condition']))}\")\n",
    "print(f\"Unique perturbations (fixed): {len(set(norman.adata.obs['condition_fixed']))}\")"
   ]
  },
  {
   "cell_type": "markdown",
   "metadata": {},
   "source": [
    "Furthermore, we will work with single-gene perturbations only.\n",
    "Hence, we have to filter out double-gene perturbations."
   ]
  },
  {
   "cell_type": "markdown",
   "metadata": {},
   "source": [
    "##### ❓ Filtering out double-gene perturbations"
   ]
  },
  {
   "cell_type": "markdown",
   "metadata": {},
   "source": [
    "Complete the following code to filter out double-gene perturbations from the `AnnData` object.\n",
    "Double-gene perturbations can be identified by a `+` in the fixed perturbation labels."
   ]
  },
  {
   "cell_type": "code",
   "execution_count": 4,
   "metadata": {},
   "outputs": [],
   "source": [
    "# YOUR CODE HERE\n",
    "adata_single = norman.adata[indexes_to_keep].copy()  # type: ignore"
   ]
  },
  {
   "cell_type": "markdown",
   "metadata": {},
   "source": [
    "Let's take a closer look at the new data:"
   ]
  },
  {
   "cell_type": "code",
   "execution_count": 5,
   "metadata": {},
   "outputs": [
    {
     "name": "stdout",
     "output_type": "stream",
     "text": [
      "AnnData object with n_obs × n_vars = 55760 × 5045\n",
      "    obs: 'condition', 'cell_type', 'dose_val', 'control', 'condition_name', 'condition_fixed'\n",
      "    var: 'gene_name'\n",
      "    uns: 'non_dropout_gene_idx', 'non_zeros_gene_idx', 'rank_genes_groups_cov_all', 'top_non_dropout_de_20', 'top_non_zero_de_20'\n",
      "    layers: 'counts'\n",
      "Unique perturbations: 106\n",
      "Number of samples per condition:\n",
      "condition_fixed\n",
      "ctrl      7353\n",
      "KLF1      1641\n",
      "BAK1      1171\n",
      "CEBPE     1039\n",
      "ETS2      1031\n",
      "          ... \n",
      "NIT1       165\n",
      "CDKN1C     165\n",
      "ZBTB10     145\n",
      "HES7       122\n",
      "PLK4        97\n",
      "Name: count, Length: 106, dtype: int64\n"
     ]
    }
   ],
   "source": [
    "print(adata_single)\n",
    "print(f\"Unique perturbations: {len(set(adata_single.obs['condition_fixed']))}\")\n",
    "print(\"Number of samples per condition:\")\n",
    "print(adata_single.obs[\"condition_fixed\"].value_counts())"
   ]
  },
  {
   "cell_type": "markdown",
   "metadata": {},
   "source": [
    "Because gene expression data is very sparse, i.e., the expression is often not measured successfully or correctly, we will limit our experiment to the 128 genes with the highest variances."
   ]
  },
  {
   "cell_type": "markdown",
   "metadata": {},
   "source": [
    "##### ❓ Selecting high-variance genes"
   ]
  },
  {
   "cell_type": "markdown",
   "metadata": {},
   "source": [
    "Complete the following code.\n",
    "Make a new `AnnData` object that only contains the top $d$ genes with the highest variances."
   ]
  },
  {
   "cell_type": "code",
   "execution_count": 6,
   "metadata": {},
   "outputs": [
    {
     "name": "stdout",
     "output_type": "stream",
     "text": [
      "Top 128 genes with highest variances:\n",
      "HBZ            : 1.69\n",
      "HIST1H4C       : 1.69\n",
      "HBG2           : 1.15\n",
      "HIST1H1C       : 0.85\n",
      "HBG1           : 0.73\n",
      "NEAT1          : 0.71\n",
      "UBE2S          : 0.62\n",
      "GYPB           : 0.61\n",
      "MALAT1         : 0.58\n",
      "TOP2A          : 0.58\n",
      "VIM            : 0.57\n",
      "HMGB2          : 0.56\n",
      "SH3BGRL3       : 0.55\n",
      "RP11-301G19.1  : 0.53\n",
      "HIST1H2BJ      : 0.52\n",
      "CENPF          : 0.49\n",
      "GAL            : 0.48\n",
      "MT-ND6         : 0.48\n",
      "RP11-717F1.1   : 0.47\n",
      "APOE           : 0.47\n",
      "PTTG1          : 0.47\n",
      "CKS1B          : 0.47\n",
      "CKS2           : 0.46\n",
      "TUBB           : 0.46\n",
      "GYPA           : 0.46\n",
      "KIAA0101       : 0.46\n",
      "S100A11        : 0.45\n",
      "PHF19          : 0.44\n",
      "PSMA4          : 0.44\n",
      "HNRNPH1        : 0.44\n",
      "CACYBP         : 0.43\n",
      "KRT18          : 0.43\n",
      "BTG1           : 0.43\n",
      "LDHA           : 0.43\n",
      "SLC25A37       : 0.42\n",
      "CFD            : 0.42\n",
      "AIF1           : 0.42\n",
      "LGALS1         : 0.41\n",
      "NME1           : 0.41\n",
      "HSPA8          : 0.41\n",
      "BLVRB          : 0.41\n",
      "HN1            : 0.41\n",
      "SRM            : 0.41\n",
      "BIRC5          : 0.41\n",
      "MYL4           : 0.40\n",
      "ODC1           : 0.40\n",
      "CYBA           : 0.40\n",
      "MDK            : 0.40\n",
      "TUBA1C         : 0.40\n",
      "PITX1          : 0.40\n",
      "AC079466.1     : 0.40\n",
      "CKB            : 0.40\n",
      "STMN1          : 0.40\n",
      "PRDX1          : 0.40\n",
      "EMP3           : 0.39\n",
      "PSMB3          : 0.39\n",
      "DDX21          : 0.39\n",
      "PSMB1          : 0.39\n",
      "UFD1L          : 0.39\n",
      "ATF7IP2        : 0.39\n",
      "HSP90B1        : 0.39\n",
      "LMO4           : 0.39\n",
      "PRDX4          : 0.39\n",
      "NUDC           : 0.38\n",
      "HSP90AA1       : 0.38\n",
      "TEX30          : 0.38\n",
      "COMT           : 0.38\n",
      "PRDX2          : 0.38\n",
      "DNAJA1         : 0.38\n",
      "TPX2           : 0.38\n",
      "ARPC3          : 0.37\n",
      "TUBB4B         : 0.37\n",
      "TFRC           : 0.37\n",
      "SNHG9          : 0.37\n",
      "BCYRN1         : 0.37\n",
      "ATF4           : 0.37\n",
      "TESC           : 0.37\n",
      "PYCARD         : 0.37\n",
      "LAPTM5         : 0.37\n",
      "WDR43          : 0.37\n",
      "IFITM2         : 0.37\n",
      "CLIC1          : 0.36\n",
      "LDHB           : 0.36\n",
      "PRSS57         : 0.36\n",
      "LY6E           : 0.36\n",
      "ENO1           : 0.36\n",
      "THUMPD3-AS1    : 0.36\n",
      "ARPC1B         : 0.36\n",
      "MYC            : 0.36\n",
      "UBC            : 0.36\n",
      "POLR2J3        : 0.36\n",
      "SMC4           : 0.36\n",
      "CALM2          : 0.36\n",
      "KCNH2          : 0.35\n",
      "SVIP           : 0.35\n",
      "TMEM54         : 0.35\n",
      "KRT8           : 0.35\n",
      "MEF2C          : 0.35\n",
      "VAMP8          : 0.35\n",
      "LYL1           : 0.35\n",
      "HSPD1          : 0.35\n",
      "CLTA           : 0.35\n",
      "DBI            : 0.35\n",
      "ANXA2          : 0.35\n",
      "MSN            : 0.35\n",
      "PPIB           : 0.35\n",
      "NCL            : 0.35\n",
      "H1FX           : 0.35\n",
      "SMYD3          : 0.35\n",
      "DEK            : 0.35\n",
      "MYL12A         : 0.35\n",
      "TIMP1          : 0.35\n",
      "CALR           : 0.35\n",
      "TMSB10         : 0.35\n",
      "ARGLU1         : 0.35\n",
      "ALAS2          : 0.35\n",
      "MARCKSL1       : 0.35\n",
      "MT2A           : 0.35\n",
      "CCNA2          : 0.35\n",
      "COL18A1        : 0.34\n",
      "PSMB2          : 0.34\n",
      "PTPN7          : 0.34\n",
      "GPSM3          : 0.34\n",
      "ITM2B          : 0.34\n",
      "ANP32E         : 0.34\n",
      "SOCS2          : 0.34\n",
      "SEPP1          : 0.34\n",
      "CMTM6          : 0.34\n"
     ]
    }
   ],
   "source": [
    "# Number of top genes to select.\n",
    "d = 128\n",
    "\n",
    "# Compute the gene variances.\n",
    "# YOUR CODE HERE\n",
    "\n",
    "# Sort the gene variances in descending order and get the indexes of the top d genes.\n",
    "# YOUR CODE HERE\n",
    "\n",
    "# Get the indexes of the top d genes.\n",
    "# YOUR CODE HERE\n",
    "\n",
    "# Get the gene names of the top d genes.\n",
    "# YOUR CODE HERE\n",
    "\n",
    "# Get the variances of the top d genes.\n",
    "# YOUR CODE HERE\n",
    "\n",
    "# Print the top d genes with the highest variances.\n",
    "# YOUR CODE HERE\n",
    "\n",
    "# Create a new AnnData object with only the top d genes.\n",
    "adata_single_top_genes = adata_single[:, top_gene_indexes].copy()"
   ]
  },
  {
   "cell_type": "markdown",
   "metadata": {},
   "source": [
    "Using an autoencoder trained on RNA-Seq data can offer several significant advantages, especially when dealing with the complexities inherent to gene expression datasets.\n",
    "\n",
    "Here, we will highlight two use cases.\n",
    "\n",
    "1. High Dimensionality of RNA-Seq Data\n",
    "    - Challenge: RNA-Seq datasets often comprise expression levels for thousands of genes (features), which can lead to the \"curse of dimensionality.\" High-dimensional data can make models like Multi-Layer Perceptrons (MLPs) computationally intensive and prone to overfitting.\n",
    "    - Solution: Autoencoders can learn a compressed, lower-dimensional representation (latent space) of the data by encoding the input features into a smaller set of latent variables. This reduced representation retains the most critical information, making it easier and more efficient for downstream models (like an MLP) to process the data.\n",
    "\n",
    "2. Capturing Complex Patterns\n",
    "    - Challenge: Gene expression data may contain intricate, nonlinear relationships that are not easily captured by traditional linear dimensionality reduction techniques like PCA.\n",
    "    - Solution: Autoencoders, especially deep or variational ones, can capture complex, nonlinear relationships within the data. The learned latent representations can encapsulate meaningful biological patterns and interactions among genes, providing richer features for classification tasks.\n",
    "\n",
    "Further reading:\n",
    "\n",
    "Carlos Ruiz-Arenas, Irene Marín-Goñi, Liewei Wang, Idoia Ochoa, Luis A Pérez-Jurado, Mikel Hernaez, NetActivity enhances transcriptional signals by combining gene expression into robust gene set activity scores through interpretable autoencoders, Nucleic Acids Research, Volume 52, Issue 9, 22 May 2024, Page e44, https://doi.org/10.1093/nar/gkae197\n",
    "\n",
    "Abstract:\n",
    "\n",
    "\"Grouping gene expression into gene set activity scores (GSAS) provides better biological insights than studying individual genes. However, existing gene set projection methods cannot return representative, robust, and interpretable GSAS. We developed NetActivity, a machine learning framework that generates GSAS based on a sparsely-connected autoencoder, where each neuron in the inner layer represents a gene set. [...]\""
   ]
  },
  {
   "cell_type": "markdown",
   "metadata": {},
   "source": [
    "# Training an Autoencoder on Single-Cell RNA-Seq Data"
   ]
  },
  {
   "cell_type": "markdown",
   "metadata": {},
   "source": [
    "First, we prepare our data.\n",
    "\n",
    "Note that we shuffle the data in the `train_loader` but not in the `test_loader`.\n",
    "\n",
    "Shuffling the training data is a common practice to ensure that the model does not learn the order of the data.\n",
    "It helps in breaking correlations by preventing the model from learning any unintended patterns or correlations that might exist in the order of the training data.\n",
    "\n",
    "Shuffling is typically not used for the testing data because non-shuffled data ensures that the evaluation is consistent and reproducible.\n",
    "The model is tested on the same data in the same order each time, which is important for comparing performance across different runs."
   ]
  },
  {
   "cell_type": "code",
   "execution_count": 7,
   "metadata": {},
   "outputs": [],
   "source": [
    "import torch\n",
    "from torch.utils.data import DataLoader, TensorDataset, random_split\n",
    "\n",
    "# Convert the gene expression matrix to a PyTorch tensor.\n",
    "X = torch.tensor(data=adata_single_top_genes.X.toarray(), dtype=torch.float32)  # type: ignore\n",
    "\n",
    "# Create a PyTorch dataset.\n",
    "dataset = TensorDataset(X, X)\n",
    "\n",
    "# Create train and test datasets\n",
    "train_size = int(0.8 * len(dataset))\n",
    "test_size = len(dataset) - train_size\n",
    "train_dataset, test_dataset = random_split(\n",
    "    dataset=dataset, lengths=[train_size, test_size]\n",
    ")\n",
    "\n",
    "# Number of workers.\n",
    "num_workers = 3\n",
    "\n",
    "# Create train and test data loaders.\n",
    "train_loader = DataLoader(\n",
    "    dataset=train_dataset,\n",
    "    batch_size=64,\n",
    "    shuffle=True,\n",
    "    num_workers=num_workers,\n",
    "    persistent_workers=True,\n",
    ")\n",
    "test_loader = DataLoader(\n",
    "    dataset=test_dataset,\n",
    "    batch_size=64,\n",
    "    shuffle=False,\n",
    "    num_workers=num_workers,\n",
    "    persistent_workers=True,\n",
    ")"
   ]
  },
  {
   "cell_type": "markdown",
   "metadata": {},
   "source": [
    "##### ❓ Creating an autoencoder"
   ]
  },
  {
   "cell_type": "markdown",
   "metadata": {},
   "source": [
    "Create an autoencoder for the RNA-Seq data using the `Autoencoder` class from `models.py`."
   ]
  },
  {
   "cell_type": "code",
   "execution_count": 8,
   "metadata": {},
   "outputs": [
    {
     "name": "stdout",
     "output_type": "stream",
     "text": [
      "n_features=128\n",
      "n_samples=55760\n"
     ]
    }
   ],
   "source": [
    "import pytorch_lightning as pl\n",
    "from models import Autoencoder\n",
    "\n",
    "# YOUR CODE HERE"
   ]
  },
  {
   "cell_type": "markdown",
   "metadata": {},
   "source": [
    "Next, we train the autoencoder:"
   ]
  },
  {
   "cell_type": "code",
   "execution_count": 9,
   "metadata": {},
   "outputs": [
    {
     "name": "stderr",
     "output_type": "stream",
     "text": [
      "GPU available: False, used: False\n",
      "TPU available: False, using: 0 TPU cores\n",
      "HPU available: False, using: 0 HPUs\n",
      "\n",
      "  | Name    | Type    | Params | Mode \n",
      "--------------------------------------------\n",
      "0 | encoder | Encoder | 12.4 K | train\n",
      "1 | decoder | Decoder | 12.5 K | train\n",
      "2 | loss_fn | MSELoss | 0      | train\n",
      "--------------------------------------------\n",
      "24.9 K    Trainable params\n",
      "0         Non-trainable params\n",
      "24.9 K    Total params\n",
      "0.100     Total estimated model params size (MB)\n",
      "11        Modules in train mode\n",
      "0         Modules in eval mode\n"
     ]
    },
    {
     "data": {
      "application/vnd.jupyter.widget-view+json": {
       "model_id": "11d7e85b7e424766b3ddcc9f8f993f4b",
       "version_major": 2,
       "version_minor": 0
      },
      "text/plain": [
       "Training: |          | 0/? [00:00<?, ?it/s]"
      ]
     },
     "metadata": {},
     "output_type": "display_data"
    },
    {
     "name": "stderr",
     "output_type": "stream",
     "text": [
      "`Trainer.fit` stopped: `max_epochs=4` reached.\n"
     ]
    }
   ],
   "source": [
    "from pytorch_lightning.loggers import CSVLogger\n",
    "\n",
    "# Initialize the CSV logger.\n",
    "logger = CSVLogger(save_dir=\"lightning_logs\", name=\"ae_experiment\")\n",
    "\n",
    "# Train the autoencoder.\n",
    "trainer = pl.Trainer(max_epochs=4, logger=logger)\n",
    "trainer.fit(model=autoencoder, train_dataloaders=train_loader)"
   ]
  },
  {
   "cell_type": "markdown",
   "metadata": {},
   "source": [
    "Then, we test the model:"
   ]
  },
  {
   "cell_type": "code",
   "execution_count": 10,
   "metadata": {},
   "outputs": [
    {
     "data": {
      "application/vnd.jupyter.widget-view+json": {
       "model_id": "d16680a0da6a4788bdc06ef7cd792bf0",
       "version_major": 2,
       "version_minor": 0
      },
      "text/plain": [
       "Testing: |          | 0/? [00:00<?, ?it/s]"
      ]
     },
     "metadata": {},
     "output_type": "display_data"
    },
    {
     "name": "stdout",
     "output_type": "stream",
     "text": [
      "────────────────────────────────────────────────────────────────────────────────────────────────────────────────────────\n",
      "       Test metric             DataLoader 0\n",
      "────────────────────────────────────────────────────────────────────────────────────────────────────────────────────────\n",
      "        test_loss           0.18833093345165253\n",
      "────────────────────────────────────────────────────────────────────────────────────────────────────────────────────────\n"
     ]
    },
    {
     "data": {
      "text/plain": [
       "[{'test_loss': 0.18833093345165253}]"
      ]
     },
     "execution_count": 10,
     "metadata": {},
     "output_type": "execute_result"
    }
   ],
   "source": [
    "# Test the autoencoder.\n",
    "trainer.test(model=autoencoder, dataloaders=test_loader)"
   ]
  },
  {
   "cell_type": "markdown",
   "metadata": {},
   "source": [
    "##### ❓ Plotting the training loss"
   ]
  },
  {
   "cell_type": "markdown",
   "metadata": {},
   "source": [
    "Complete the following code to plot the training loss over the steps."
   ]
  },
  {
   "cell_type": "code",
   "execution_count": 11,
   "metadata": {},
   "outputs": [
    {
     "name": "stdout",
     "output_type": "stream",
     "text": [
      "logfile=lightning_logs/ae_experiment/version_0/metrics.csv\n"
     ]
    },
    {
     "data": {
      "image/png": "[encoded data removed]",
      "text/plain": [
       "<Figure size 640x480 with 1 Axes>"
      ]
     },
     "metadata": {},
     "output_type": "display_data"
    }
   ],
   "source": [
    "import os\n",
    "\n",
    "import matplotlib.pyplot as plt\n",
    "import pandas as pd\n",
    "\n",
    "\n",
    "def plot_train_loss(logfile: str) -> None:\n",
    "    \"\"\"Plot the training loss from a PyTorch Lightning log file.\"\"\"\n",
    "    print(f\"logfile={logfile}\")\n",
    "    # YOUR CODE HERE\n",
    "    plt.show()\n",
    "\n",
    "\n",
    "# Construct the path to the most recent version directory.\n",
    "most_recent_metrics_file = os.path.join(\n",
    "    logger.save_dir, logger.name, f\"version_{logger.version}\", \"metrics.csv\"\n",
    ")\n",
    "\n",
    "# Plot the training loss.\n",
    "plot_train_loss(logfile=most_recent_metrics_file)"
   ]
  }
 ],
 "metadata": {
  "kernelspec": {
   "display_name": "Python 3",
   "language": "python",
   "name": "python3"
  },
  "language_info": {
   "codemirror_mode": {
    "name": "ipython",
    "version": 3
   },
   "file_extension": ".py",
   "mimetype": "text/x-python",
   "name": "python",
   "nbconvert_exporter": "python",
   "pygments_lexer": "ipython3",
   "version": "3.12.7"
  }
 },
 "nbformat": 4,
 "nbformat_minor": 2
}
