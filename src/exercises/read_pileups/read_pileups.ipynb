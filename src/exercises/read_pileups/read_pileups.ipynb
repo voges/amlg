{
 "cells": [
  {
   "cell_type": "markdown",
   "metadata": {},
   "source": [
    "# **Generation of Read Pileups**"
   ]
  },
  {
   "cell_type": "markdown",
   "metadata": {},
   "source": [
    "First, let's download the data for this notebook."
   ]
  },
  {
   "cell_type": "code",
   "execution_count": 1,
   "metadata": {},
   "outputs": [],
   "source": [
    "import os\n",
    "import sys\n",
    "\n",
    "# Append the root of the Git repository to the path.\n",
    "git_root = os.popen(cmd=\"git rev-parse --show-toplevel\").read().strip()\n",
    "sys.path.append(git_root)"
   ]
  },
  {
   "cell_type": "code",
   "execution_count": 2,
   "metadata": {},
   "outputs": [
    {
     "name": "stdout",
     "output_type": "stream",
     "text": [
      "Downloading: https://seafile.cloud.uni-hannover.de/d/5d6029c6eaaf410c8b01/files/?p=%2Fread_pileups%2Fe-coli-dh10b.fasta&dl=1 -> data/e-coli-dh10b.fasta\n",
      "Total size: 4,754,525 bytes\n"
     ]
    },
    {
     "name": "stderr",
     "output_type": "stream",
     "text": [
      "100%|██████████| 4.75M/4.75M [00:00<00:00, 9.75MiB/s]"
     ]
    },
    {
     "name": "stdout",
     "output_type": "stream",
     "text": [
      "Download completed: data/e-coli-dh10b.fasta\n"
     ]
    },
    {
     "name": "stderr",
     "output_type": "stream",
     "text": [
      "\n"
     ]
    }
   ],
   "source": [
    "from utils import download_file\n",
    "\n",
    "if not os.path.exists(path=\"data\"):\n",
    "    os.makedirs(name=\"data\")\n",
    "\n",
    "download_file(\n",
    "    # url=\"https://dataverse.harvard.edu/api/access/datafile/10494346\",\n",
    "    url=\"https://seafile.cloud.uni-hannover.de/d/5d6029c6eaaf410c8b01/files/?p=%2Fread_pileups%2Fe-coli-dh10b.fasta&dl=1\",\n",
    "    save_filename=\"data/e-coli-dh10b.fasta\",\n",
    ")"
   ]
  },
  {
   "cell_type": "code",
   "execution_count": 3,
   "metadata": {},
   "outputs": [],
   "source": [
    "from typing import Dict, List\n",
    "\n",
    "import numpy.typing as npt"
   ]
  },
  {
   "cell_type": "markdown",
   "metadata": {},
   "source": [
    "# DNA Sequencing Simulation"
   ]
  },
  {
   "cell_type": "markdown",
   "metadata": {},
   "source": [
    "By randomly sampling substrings from a larger reference sequence, we can simulate an error-free DNA sequencing process."
   ]
  },
  {
   "cell_type": "markdown",
   "metadata": {},
   "source": [
    "##### ❓ Sampling reads from a reference sequence"
   ]
  },
  {
   "cell_type": "markdown",
   "metadata": {},
   "source": [
    "Complete the function `sample_reads()` to sample `n_reads` reads from the string `reference_sequence` with a minimum/maximum read length of `min_read_len`/`max_read_len`.\n",
    "A read shall be stored in a dictionary that contains two key-value pairs: the 0-based mapping position of the read on the reference sequence (key `'pos'`) and the read sequence (key `'seq'`).\n",
    "The function shall hence return a list (of length `n_reads`) of dictionaries.\n",
    "\n",
    "This is how an example dictionary might look like:\n",
    "\n",
    "```\n",
    "{'pos': 4, 'seq': 'TTTCATTCTGACTGCAACGGGCAATA'}\n",
    "```"
   ]
  },
  {
   "cell_type": "code",
   "execution_count": 4,
   "metadata": {},
   "outputs": [],
   "source": [
    "import random\n",
    "\n",
    "\n",
    "def sample_reads(\n",
    "    reference_sequence: str, n_reads: int, min_read_len: int, max_read_len: int\n",
    ") -> List[Dict]:\n",
    "    \"\"\"Sample reads from a reference sequence.\"\"\"\n",
    "    reads = []\n",
    "\n",
    "    while len(reads) < n_reads:\n",
    "        range_acquired = False\n",
    "        while not range_acquired:\n",
    "            start_position = random.randrange(len(reference_sequence))\n",
    "            end_position = random.randrange(len(reference_sequence))\n",
    "            if start_position > end_position:\n",
    "                continue\n",
    "            range_len = end_position - start_position + 1\n",
    "            if range_len < min_read_len or range_len > max_read_len:\n",
    "                continue\n",
    "            range_acquired = True\n",
    "            read = reference_sequence[start_position : (end_position + 1)]\n",
    "            reads.append({\"pos\": start_position, \"seq\": read})\n",
    "\n",
    "    return reads"
   ]
  },
  {
   "cell_type": "markdown",
   "metadata": {},
   "source": [
    "##### ❓ Sampling reads from a reference sequence"
   ]
  },
  {
   "cell_type": "markdown",
   "metadata": {},
   "source": [
    "Now use the function `sample_reads()` to sample 20 reads from the following reference sequence:\n",
    "\n",
    "```\n",
    "AGCTTTTCATTCTGACTGCAACGGGCAATATGTCTCTGTGTGGATTAAAAAAAGAGTGTCTGATAGCAGC\n",
    "```\n",
    "\n",
    "Set the other parameters as follows: `n_reads=20`, `min_read_len=15`, `max_read_len=40`."
   ]
  },
  {
   "cell_type": "code",
   "execution_count": 5,
   "metadata": {},
   "outputs": [
    {
     "name": "stdout",
     "output_type": "stream",
     "text": [
      "[{'pos': 34, 'seq': 'TCTGTGTGGATTAAAAAAAGA'}, {'pos': 14, 'seq': 'ACTGCAACGGGCAATATGTCTCTGT'}, {'pos': 49, 'seq': 'AAAAGAGTGTCTGATAG'}, {'pos': 47, 'seq': 'AAAAAAGAGTGTCTGAT'}, {'pos': 42, 'seq': 'GATTAAAAAAAGAGTGTCTG'}, {'pos': 33, 'seq': 'CTCTGTGTGGATTAAAAAAAGAGTGTCTGA'}, {'pos': 30, 'seq': 'TGTCTCTGTGTGGAT'}, {'pos': 28, 'seq': 'TATGTCTCTGTGTGGAT'}, {'pos': 33, 'seq': 'CTCTGTGTGGATTAAAAA'}, {'pos': 14, 'seq': 'ACTGCAACGGGCAATATGTCTCTGTGTGGATTAA'}, {'pos': 25, 'seq': 'CAATATGTCTCTGTGTGGATTAAAAAA'}, {'pos': 9, 'seq': 'TTCTGACTGCAACGGGCAATATGTCTCTGTGTGG'}, {'pos': 22, 'seq': 'GGGCAATATGTCTCTGTGTGGATTAAAAAAAGAGTGTCTG'}, {'pos': 24, 'seq': 'GCAATATGTCTCTGTGTGGATT'}, {'pos': 9, 'seq': 'TTCTGACTGCAACGGGCA'}, {'pos': 37, 'seq': 'GTGTGGATTAAAAAAAGAG'}, {'pos': 8, 'seq': 'ATTCTGACTGCAACGGGCAATATGTCTCTGT'}, {'pos': 22, 'seq': 'GGGCAATATGTCTCT'}, {'pos': 18, 'seq': 'CAACGGGCAATATGTCTCTGTGTGGATTAAAAAAAGA'}, {'pos': 44, 'seq': 'TTAAAAAAAGAGTGTCTGATAGC'}]\n"
     ]
    }
   ],
   "source": [
    "reference_sequence = (\n",
    "    \"AGCTTTTCATTCTGACTGCAACGGGCAATATGTCTCTGTGTGGATTAAAAAAAGAGTGTCTGATAGCAGC\"\n",
    ")\n",
    "\n",
    "reads = sample_reads(\n",
    "    reference_sequence=reference_sequence, n_reads=20, min_read_len=15, max_read_len=40\n",
    ")\n",
    "\n",
    "print(reads)"
   ]
  },
  {
   "cell_type": "markdown",
   "metadata": {},
   "source": [
    "##### ❓ Sampling reads from a reference sequence"
   ]
  },
  {
   "cell_type": "markdown",
   "metadata": {},
   "source": [
    "Now print the reference sequence and all sampled reads such that the reads visually align with the reference sequence.\n",
    "\n",
    "This is how the printout should look like:\n",
    "\n",
    "```\n",
    "Reference: AGCTTTTCATTCTGACTGCAACGGGCAATATGTCTCTG...\n",
    "Read    0:    TTTTCATTCTGACTGCAACGGGCAA\n",
    "Read    1:             TGACTGCAACGGGCAATATGTC\n",
    "```"
   ]
  },
  {
   "cell_type": "code",
   "execution_count": 6,
   "metadata": {},
   "outputs": [
    {
     "name": "stdout",
     "output_type": "stream",
     "text": [
      "Reference: AGCTTTTCATTCTGACTGCAACGGGCAATATGTCTCTGTGTGGATTAAAAAAAGAGTGTCTGATAGCAGC\n",
      "Read    0:                                   TCTGTGTGGATTAAAAAAAGA\n",
      "Read    1:               ACTGCAACGGGCAATATGTCTCTGT\n",
      "Read    2:                                                  AAAAGAGTGTCTGATAG\n",
      "Read    3:                                                AAAAAAGAGTGTCTGAT\n",
      "Read    4:                                           GATTAAAAAAAGAGTGTCTG\n",
      "Read    5:                                  CTCTGTGTGGATTAAAAAAAGAGTGTCTGA\n",
      "Read    6:                               TGTCTCTGTGTGGAT\n",
      "Read    7:                             TATGTCTCTGTGTGGAT\n",
      "Read    8:                                  CTCTGTGTGGATTAAAAA\n",
      "Read    9:               ACTGCAACGGGCAATATGTCTCTGTGTGGATTAA\n",
      "Read   10:                          CAATATGTCTCTGTGTGGATTAAAAAA\n",
      "Read   11:          TTCTGACTGCAACGGGCAATATGTCTCTGTGTGG\n",
      "Read   12:                       GGGCAATATGTCTCTGTGTGGATTAAAAAAAGAGTGTCTG\n",
      "Read   13:                         GCAATATGTCTCTGTGTGGATT\n",
      "Read   14:          TTCTGACTGCAACGGGCA\n",
      "Read   15:                                      GTGTGGATTAAAAAAAGAG\n",
      "Read   16:         ATTCTGACTGCAACGGGCAATATGTCTCTGT\n",
      "Read   17:                       GGGCAATATGTCTCT\n",
      "Read   18:                   CAACGGGCAATATGTCTCTGTGTGGATTAAAAAAAGA\n",
      "Read   19:                                             TTAAAAAAAGAGTGTCTGATAGC\n"
     ]
    }
   ],
   "source": [
    "print(f\"Reference: {reference_sequence}\")\n",
    "for i, read in enumerate(reads):\n",
    "    print(f\"Read {i:4}: {' ' * read['pos']}{read['seq']}\")"
   ]
  },
  {
   "cell_type": "markdown",
   "metadata": {},
   "source": [
    "# Pileups, Sequencing Depth, Coverage"
   ]
  },
  {
   "cell_type": "markdown",
   "metadata": {},
   "source": [
    "##### ❓ Computing read pileups"
   ]
  },
  {
   "cell_type": "markdown",
   "metadata": {},
   "source": [
    "Complete the function `compute_pileup_sizes()` and use it to compute the pileup size (i.e., sequencing depth) at each position of the reference sequence."
   ]
  },
  {
   "cell_type": "code",
   "execution_count": 7,
   "metadata": {},
   "outputs": [
    {
     "name": "stdout",
     "output_type": "stream",
     "text": [
      "[ 0.  0.  0.  0.  0.  0.  0.  0.  1.  3.  3.  3.  3.  3.  5.  5.  5.  5.\n",
      "  6.  6.  6.  6.  8.  8.  9. 10. 10.  9. 10. 10. 11. 11. 11. 13. 14. 14.\n",
      " 14. 14. 14. 12. 12. 12. 13. 12. 13. 11. 10. 11. 10. 11. 11. 10.  9.  9.\n",
      "  9.  7.  6.  6.  6.  6.  6.  6.  4.  3.  2.  2.  1.  0.  0.  0.]\n"
     ]
    }
   ],
   "source": [
    "import numpy as np\n",
    "\n",
    "\n",
    "def compute_pileup_sizes(\n",
    "    reference_sequence: str, reads: List[Dict]\n",
    ") -> npt.NDArray[np.float64]:\n",
    "    \"\"\"Compute the pileup sizes for a set of reads.\"\"\"\n",
    "    pileup_sizes = np.zeros(shape=len(reference_sequence))\n",
    "\n",
    "    for read in reads:\n",
    "        for offset, _ in enumerate(read[\"seq\"]):\n",
    "            pileup_sizes[read[\"pos\"] + offset] += 1\n",
    "\n",
    "    return pileup_sizes\n",
    "\n",
    "\n",
    "pileup_sizes = compute_pileup_sizes(reference_sequence=reference_sequence, reads=reads)\n",
    "\n",
    "print(pileup_sizes)"
   ]
  },
  {
   "cell_type": "markdown",
   "metadata": {},
   "source": [
    "##### ❓ Computing the coverage"
   ]
  },
  {
   "cell_type": "markdown",
   "metadata": {},
   "source": [
    "Complete the function `coverage()` and use it to compute the coverage (i.e., the average sequencing depth) across all positions of the reference sequence."
   ]
  },
  {
   "cell_type": "code",
   "execution_count": 8,
   "metadata": {},
   "outputs": [
    {
     "name": "stdout",
     "output_type": "stream",
     "text": [
      "Coverage: 6.9\n"
     ]
    }
   ],
   "source": [
    "def coverage(pileup_sizes: npt.NDArray[np.float64]) -> float:\n",
    "    \"\"\"Compute the coverage of a set of pileup sizes.\"\"\"\n",
    "    return sum(pileup_sizes) / len(pileup_sizes)\n",
    "\n",
    "\n",
    "print(f\"Coverage: {coverage(pileup_sizes=pileup_sizes):.2}\")"
   ]
  },
  {
   "cell_type": "markdown",
   "metadata": {},
   "source": [
    "##### ❓ Visualizing pileups"
   ]
  },
  {
   "cell_type": "markdown",
   "metadata": {},
   "source": [
    "Plot the pileups and the coverage using `matplotlib.pyplot.bar()` for the pileups and `matplotlib.pyplot.axhline()` for the coverage."
   ]
  },
  {
   "cell_type": "code",
   "execution_count": 9,
   "metadata": {},
   "outputs": [
    {
     "data": {
      "image/png": "[encoded data removed]",
      "text/plain": [
       "<Figure size 1000x400 with 1 Axes>"
      ]
     },
     "metadata": {},
     "output_type": "display_data"
    }
   ],
   "source": [
    "import matplotlib.pyplot as plt\n",
    "\n",
    "\n",
    "def plot_pileups(\n",
    "    reference_sequence: str, pileup_sizes: npt.NDArray[np.float64]\n",
    ") -> None:\n",
    "    \"\"\"Plot the pileup sizes.\"\"\"\n",
    "    plt.figure(figsize=(10, 4))\n",
    "    plt.bar(x=range(len(reference_sequence)), height=pileup_sizes)\n",
    "    plt.axhline(y=coverage(pileup_sizes=pileup_sizes), color=\"r\")\n",
    "    plt.xlabel(\"position\")\n",
    "    plt.ylabel(\"pileup size\")\n",
    "    plt.show()\n",
    "\n",
    "\n",
    "plot_pileups(reference_sequence=reference_sequence, pileup_sizes=pileup_sizes)"
   ]
  },
  {
   "cell_type": "markdown",
   "metadata": {},
   "source": [
    "# Simulating the Sequencing of an _E. coli_ Genome"
   ]
  },
  {
   "cell_type": "markdown",
   "metadata": {},
   "source": [
    "To provide a more realistic example, we provide the reference genome of _E. coli_ strain DH10B as FASTA file `e-coli-dh10b.fasta` (in the `data/` folder).\n",
    "\n",
    "> _E. coli_ is a bacterium that is commonly found in the lower intestine of warm-blooded organisms.\n",
    "> It has a circular DNA molecule approximately 4.6 million base pairs in length, containing more than 4000 protein-coding genes (organized into more than 2500 operons), and several ribosomal RNA (rRNA) operons as well as dozens of transfer RNA (tRNA) genes.\n",
    "\n",
    "> The [FASTA format](https://en.wikipedia.org/wiki/FASTA_format) is a text-based format for representing either nucleotide sequences or amino acid (protein) sequences, in which nucleotides or amino acids are represented using single-letter codes.\n",
    ">\n",
    "> The format allows for sequence names and comments to precede the sequences.\n",
    "> It originated from the [FASTA software package](https://en.wikipedia.org/wiki/FASTA), but has become a de-facto standard.\n",
    ">\n",
    "> A sequence begins with a greater-than character (`>`) immediately followed by a description of the sequence (all in a single line).\n",
    "> The next lines immediately following the description line are the sequence representation, with one letter per amino acid or nucleic acid.\n",
    "> An example of a multiple sequence FASTA file follows.\n",
    ">\n",
    "> ```\n",
    "> >SEQUENCE_1\n",
    "> MTEITAAMVKELRESTGAGMMDCKNALSETNGDFDKAVQLLREKGLGKAAKKADRLAAEG\n",
    "> LVSVKVSDDFTIAAMRPSYLSYEDLDMTFVEN\n",
    "> >SEQUENCE_2\n",
    "> SATVSEINSETDFVAKNDQFIALTKDTTAHIQSNSLQSVEELHSSTINGVKFEEYLKSQI\n",
    "> ATIGENLVVRRFATLKAGANGVVNGYIHTNGRVGVVIAAACDSAEVASKSRDLLRQICMH\n",
    "> ```"
   ]
  },
  {
   "cell_type": "markdown",
   "metadata": {},
   "source": [
    "##### ❓ Reading FASTA files"
   ]
  },
  {
   "cell_type": "markdown",
   "metadata": {},
   "source": [
    "Complete the function `read_fasta_file()` to read a FASTA file into a dictionary.\n",
    "In the dictionary, the sequence descriptions are the keys, and the actual sequences are the values.\n",
    "Use the function to read in `e-coli-dh10b.fasta`."
   ]
  },
  {
   "cell_type": "code",
   "execution_count": 10,
   "metadata": {},
   "outputs": [
    {
     "name": "stdout",
     "output_type": "stream",
     "text": [
      "Read E. coli genome with length 4,687,487.\n"
     ]
    }
   ],
   "source": [
    "def read_fasta_file(file_path: str) -> Dict[str, str]:\n",
    "    \"\"\"Read a FASTA file.\"\"\"\n",
    "    sequences = {}\n",
    "\n",
    "    with open(file=file_path, mode=\"r\") as file:\n",
    "        current_description = None\n",
    "        for line in file:\n",
    "            line = line.strip()\n",
    "            if line.startswith(\">\"):\n",
    "                current_description = line[1:]\n",
    "                sequences[current_description] = \"\"\n",
    "            else:\n",
    "                sequences[current_description] += line\n",
    "\n",
    "    return sequences\n",
    "\n",
    "\n",
    "ecoli_genome = read_fasta_file(file_path=\"data/e-coli-dh10b.fasta\")\n",
    "ecoli_genome_sequence = ecoli_genome[\n",
    "    \"NZ_CP110018.1 Escherichia coli strain DH10B chromosome, complete genome\"\n",
    "]\n",
    "\n",
    "print(f\"Read E. coli genome with length {len(ecoli_genome_sequence):,}.\")"
   ]
  },
  {
   "cell_type": "markdown",
   "metadata": {},
   "source": [
    "##### ❓ Visualizing _E. coli_ pileups"
   ]
  },
  {
   "cell_type": "markdown",
   "metadata": {},
   "source": [
    "Now do the following for the _E. coli_ genome:\n",
    "\n",
    "1. Truncate the genome to a length of 1000 bases.\n",
    "2. Sample 1000 reads with a minimum/maximum length of 100/250.\n",
    "3. Compute the pileup sizes.\n",
    "4. Plot the pileup sizes and the coverage."
   ]
  },
  {
   "cell_type": "code",
   "execution_count": 11,
   "metadata": {},
   "outputs": [
    {
     "data": {
      "image/png": "[encoded data removed]",
      "text/plain": [
       "<Figure size 1000x400 with 1 Axes>"
      ]
     },
     "metadata": {},
     "output_type": "display_data"
    }
   ],
   "source": [
    "ecoli_genome_sequence_truncated = ecoli_genome_sequence[:1000]\n",
    "\n",
    "reads = sample_reads(\n",
    "    reference_sequence=ecoli_genome_sequence_truncated,\n",
    "    n_reads=1000,\n",
    "    min_read_len=100,\n",
    "    max_read_len=250,\n",
    ")\n",
    "\n",
    "pileup_sizes = compute_pileup_sizes(\n",
    "    reference_sequence=ecoli_genome_sequence_truncated, reads=reads\n",
    ")\n",
    "\n",
    "plot_pileups(\n",
    "    reference_sequence=ecoli_genome_sequence_truncated, pileup_sizes=pileup_sizes\n",
    ")"
   ]
  }
 ],
 "metadata": {
  "kernelspec": {
   "display_name": "Python 3",
   "language": "python",
   "name": "python3"
  },
  "language_info": {
   "codemirror_mode": {
    "name": "ipython",
    "version": 3
   },
   "file_extension": ".py",
   "mimetype": "text/x-python",
   "name": "python",
   "nbconvert_exporter": "python",
   "pygments_lexer": "ipython3",
   "version": "3.12.7"
  }
 },
 "nbformat": 4,
 "nbformat_minor": 2
}
