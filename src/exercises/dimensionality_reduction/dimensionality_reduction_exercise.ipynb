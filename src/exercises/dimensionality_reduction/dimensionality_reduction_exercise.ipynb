{
 "cells": [
  {
   "cell_type": "markdown",
   "metadata": {},
   "source": [
    "# **Reducing High-Dimensional Gene Expression Data for Visualization**"
   ]
  },
  {
   "cell_type": "markdown",
   "metadata": {},
   "source": [
    "This notebook builds on contents from the NBIS workshop \"[Single Cell RNA-seq Analysis](https://nbisweden.github.io/workshop-scRNAseq/)\"."
   ]
  },
  {
   "cell_type": "markdown",
   "metadata": {},
   "source": [
    "First, let's download the data for this notebook."
   ]
  },
  {
   "cell_type": "code",
   "execution_count": 1,
   "metadata": {},
   "outputs": [],
   "source": [
    "import os\n",
    "import sys\n",
    "\n",
    "# Append the root of the Git repository to the path.\n",
    "git_root = os.popen(cmd=\"git rev-parse --show-toplevel\").read().strip()\n",
    "sys.path.append(git_root)"
   ]
  },
  {
   "cell_type": "code",
   "execution_count": null,
   "metadata": {},
   "outputs": [],
   "source": [
    "from utils import download_file\n",
    "\n",
    "if not os.path.exists(path=\"data\"):\n",
    "    os.makedirs(name=\"data\")\n",
    "\n",
    "download_file(\n",
    "    # url=\"https://dataverse.harvard.edu/api/access/datafile/10811622\",\n",
    "    url=\"https://seafile.cloud.uni-hannover.de/d/5d6029c6eaaf410c8b01/files/?p=%2Fdimensionality_reduction%2Fscanpy_covid_qc.h5ad&dl=1\",\n",
    "    save_filename=\"data/scanpy_covid_qc.h5ad\",\n",
    ")"
   ]
  },
  {
   "cell_type": "markdown",
   "metadata": {},
   "source": [
    "The data consists of single-cell RNA sequencing (scRNA-seq) data of peripheral blood mononuclear cells (PBMCs).\n",
    "More specifically, it is divided into 8 PBMC 10x datasets from 4 COVID-19 patients and 4 healthy controls.\n",
    "\n",
    "> A PBMC is any peripheral blood cell (peripheral blood is the fluid that travels through the heart, arteries, capillaries, and veins) having a round nucleus.\n",
    "> These cells consist of lymphocytes, monocytes, and dendritic cells, whereas erythrocytes and platelets have no nuclei, and granulocytes have multi-lobed nuclei.\n",
    "\n",
    "<img src=\"images/hematopoietic_differentiation.webp\" width=\"600\" />\n",
    "\n",
    "scRNA-seq data of PBMCs is highly valuable for several reasons, particularly in the context of understanding immune responses and disease mechanisms.\n",
    "PBMCs include key immune cells such as lymphocytes (e.g., T cells, B cells, NK cells), all of which play crucial roles in immune responses.\n",
    "By analyzing their gene expression at single-cell resolution, we can understand how individual cell types contribute to immunity or disease.\n",
    "This data helps identify cell type-specific responses to infections, such as those caused by COVID-19, and differentiate these responses from those in healthy controls.\n",
    "Also, comparing PBMCs from COVID-19 patients and healthy controls can highlight dysregulated genes or pathways that could serve as biomarkers or therapeutic targets."
   ]
  },
  {
   "cell_type": "markdown",
   "metadata": {},
   "source": [
    "# Data Preparation"
   ]
  },
  {
   "cell_type": "markdown",
   "metadata": {},
   "source": [
    "The data is already quality-controlled and filtered accordingly.\n",
    "\n",
    "Before quality control (QC), all 8 samples were subsampled to 1500 cells per sample.\n",
    "QC metrics included: number of UMIs, number of genes expressed, mitochondrial and ribosomal expression, sex, and cell cycle state.\n",
    "For example, only cells with at least 200 detected genes were retained.\n",
    "Also, genes needed to be expressed in at least 3 cells.\n",
    "\n",
    "Furthermore, in the original data, quite a lot of cells had a high proportion of mitochondrial reads and a low proportion of ribosomal reads.\n",
    "\n",
    "> Mitochondrial transcripts are upregulated during apoptosis or cell death processes.\n",
    "> By filtering out such cells, we focus on viable cells, improving the reliability of the biological interpretations.\n",
    "> High mitochondrial content could also indicate technical issues during sample preparation, such as prolonged handling or harsh dissociation protocols, leading to cellular stress.\n",
    "\n",
    "> Ribosomal transcripts are involved in maintaining basic cellular machinery, and their low expression could indicate: i) cells with altered or arrested protein synthesis; ii) faulty capture of transcripts during library preparation, leading to underrepresentation of other transcripts and potential biases in clustering or differential gene expression analyses.\n",
    "\n",
    "The bulk of the cells are below 20% mitochondrial reads and this was used as a cutoff for filtering.\n",
    "Also, cells with less than 5% ribosomal reads were filtered out."
   ]
  },
  {
   "cell_type": "markdown",
   "metadata": {},
   "source": [
    "##### ❓ Loading the QC-filtered data"
   ]
  },
  {
   "cell_type": "markdown",
   "metadata": {},
   "source": [
    "Load the QC-filtered data into an `AnnData` object using [`scanpy.read_h5ad`](https://scanpy.readthedocs.io/en/stable/generated/scanpy.read_h5ad.html).\n",
    "The `sample` column in the `adata.obs` DataFrame provides the sample name for each cell.\n",
    "Print the number of cells per sample."
   ]
  },
  {
   "cell_type": "code",
   "execution_count": 3,
   "metadata": {},
   "outputs": [],
   "source": [
    "import scanpy as sc\n",
    "\n",
    "# YOUR CODE HERE"
   ]
  },
  {
   "cell_type": "code",
   "execution_count": null,
   "metadata": {},
   "outputs": [],
   "source": [
    "# YOUR CODE HERE"
   ]
  },
  {
   "cell_type": "markdown",
   "metadata": {},
   "source": [
    "##### ❓ Normalization and log-transformation"
   ]
  },
  {
   "cell_type": "markdown",
   "metadata": {},
   "source": [
    "Before further processing the data, we need to normalize and log-transform the data.\n",
    "\n",
    "Normalize the data using [`scanpy.pp.normalize_total`](https://scanpy.readthedocs.io/en/stable/generated/scanpy.pp.normalize_total.html).\n",
    "This normalizes each cell by total counts over all genes, so that every cell has the same total count after normalization.\n",
    "Use the parameter `target_sum=1e4`.\n",
    "\n",
    "Then, logarithmize the data matrix `adata.X` using [`scanpy.pp.log1p`](https://scanpy.readthedocs.io/en/stable/generated/scanpy.pp.log1p.html)."
   ]
  },
  {
   "cell_type": "code",
   "execution_count": null,
   "metadata": {},
   "outputs": [],
   "source": [
    "# YOUR CODE HERE"
   ]
  },
  {
   "cell_type": "markdown",
   "metadata": {},
   "source": [
    "# Feature Selection"
   ]
  },
  {
   "cell_type": "markdown",
   "metadata": {},
   "source": [
    "We first need to define which features (i.e., genes) are important in our dataset to distinguish cell types.\n",
    "For this purpose, it is common to find genes that are highly variable across cells, which in turn will also provide a good separation of the cell clusters."
   ]
  },
  {
   "cell_type": "code",
   "execution_count": null,
   "metadata": {},
   "outputs": [],
   "source": [
    "# Compute highly variable genes.\n",
    "sc.pp.highly_variable_genes(adata)\n",
    "print(f\"Number of genes: {adata.n_vars}\")\n",
    "print(f\"Number of highly variable genes: {sum(adata.var.highly_variable)}\")\n",
    "\n",
    "# Plot the highly variable genes. The term \"dispersions of genes\" refers to the\n",
    "# variability or spread of gene expression levels across different cells. Dispersion is\n",
    "# a measure of how much the expression of a gene varies from cell to cell.\n",
    "sc.pl.highly_variable_genes(adata)"
   ]
  },
  {
   "cell_type": "markdown",
   "metadata": {},
   "source": [
    "##### ❓ Subset the dataset for highly variable genes"
   ]
  },
  {
   "cell_type": "markdown",
   "metadata": {},
   "source": [
    "Subset the dataset for highly variable genes.\n",
    "The `highly_variable` column in the `adata.var` DataFrame (generated by `sc.pp.highly_variable_genes`) provides this information for each gene."
   ]
  },
  {
   "cell_type": "code",
   "execution_count": 7,
   "metadata": {},
   "outputs": [],
   "source": [
    "# YOUR CODE HERE\n",
    "adata = adata[:, highly_variable_mask].copy()  # type: ignore"
   ]
  },
  {
   "cell_type": "markdown",
   "metadata": {},
   "source": [
    "# PCA"
   ]
  },
  {
   "cell_type": "markdown",
   "metadata": {},
   "source": [
    "Now that the genes have been selected, we proceed with PCA.\n",
    "Since each gene has a different expression level, it means that genes with higher expression values will naturally have higher variation that will be captured by PCA.\n",
    "This means that we need to give each gene a similar weight when performing PCA.\n",
    "\n",
    "The common practice is to standardize (i.e., center and scale) each gene before performing PCA."
   ]
  },
  {
   "cell_type": "markdown",
   "metadata": {},
   "source": [
    "##### ❓ Standardizing the data"
   ]
  },
  {
   "cell_type": "markdown",
   "metadata": {},
   "source": [
    "Use the function [`sc.pp.scale`](https://scanpy.readthedocs.io/en/stable/generated/scanpy.pp.scale.html) to standardize the expression values of each gene to have a mean of 0 and a variance of 1.\n",
    "Use this function to also clip values that exceed the standard deviation 10 to mitigate the effect of extreme outliers."
   ]
  },
  {
   "cell_type": "code",
   "execution_count": 8,
   "metadata": {},
   "outputs": [],
   "source": [
    "# YOUR CODE HERE"
   ]
  },
  {
   "cell_type": "markdown",
   "metadata": {},
   "source": [
    "Also, we need to remove the effects of certain variables or confounding factors from the gene expression data.\n",
    "This is done to ensure that the downstream analyses (such as clustering, dimensionality reduction, or differential expression analysis) are not biased or influenced by these unwanted factors.\n",
    "\n",
    "\"Regressing out\" in this context means:\n",
    "1. Identifying confounding factors: Common confounding factors in scRNA-seq data include cell cycle effects, batch effects, mitochondrial gene expression, and total counts per cell.\n",
    "2. Modeling the relationship: For each gene the relationship between its expression levels and the confounding factors is modeled using linear regression, where the gene expression is the dependent variable, and the confounding factors are the independent variables.\n",
    "3. After modeling the relationship, the estimated effects of the confounding factors are subtracted from the gene expression data."
   ]
  },
  {
   "cell_type": "code",
   "execution_count": 9,
   "metadata": {},
   "outputs": [],
   "source": [
    "sc.pp.regress_out(adata, [\"total_counts\", \"pct_counts_mt\"])"
   ]
  },
  {
   "cell_type": "markdown",
   "metadata": {},
   "source": [
    "##### ❓ Run the PCA"
   ]
  },
  {
   "cell_type": "markdown",
   "metadata": {},
   "source": [
    "Run the PCA with [`scanpy.tl.pca`](https://scanpy.readthedocs.io/en/1.9.x/generated/scanpy.tl.pca.html).\n",
    "\n",
    "Make 2-dimensional plots of the components 1 and 2, 3 and 4, 5 and 6, 7 and 8 using [`scanpy.pl.pca`](https://scanpy.readthedocs.io/en/stable/api/generated/scanpy.pl.pca.html).\n",
    "\n",
    "Plot the amount of variance explained by each princicap component (PC) using [`scanpy.pl.pca_variance_ratio`](https://scanpy.readthedocs.io/en/stable/api/generated/scanpy.pl.pca_variance_ratio.html)."
   ]
  },
  {
   "cell_type": "code",
   "execution_count": 10,
   "metadata": {},
   "outputs": [],
   "source": [
    "# YOUR CODE HERE"
   ]
  },
  {
   "cell_type": "code",
   "execution_count": null,
   "metadata": {},
   "outputs": [],
   "source": [
    "# YOUR CODE HERE"
   ]
  },
  {
   "cell_type": "code",
   "execution_count": null,
   "metadata": {},
   "outputs": [],
   "source": [
    "# YOUR CODE HERE"
   ]
  },
  {
   "cell_type": "markdown",
   "metadata": {},
   "source": [
    "Based on this plot, we can see that the top 8 PCs retain a lot of information, while other PCs contain progressively less.\n",
    "However, it is still advisable to use more PCs since they might contain information about rare cell types."
   ]
  },
  {
   "cell_type": "markdown",
   "metadata": {},
   "source": [
    "# t-SNE"
   ]
  },
  {
   "cell_type": "markdown",
   "metadata": {},
   "source": [
    "t-SNE (t-Distributed Stochastic Neighbor Embedding) is a nonlinear dimensionality reduction technique used primarily for visualizing high-dimensional data in 2 or 3 dimensions.\n",
    "It preserves local structures by modeling pairwise similarities in both high and low dimensions.\n",
    "\n",
    "The key steps are:\n",
    "1. Model high-dimensional similarities:\n",
    "    - Compute the conditional probability $P_{j|i}$ that point $i$ picks $j$ as its neighbor:\n",
    "        $$P_{j|i} = \\frac{\\exp(-\\| \\mathbf{x}_i - \\mathbf{x}_j \\|^2 / 2\\sigma_i^2)}{\\sum_{k \\neq i} \\exp(-\\| \\mathbf{x}_i - \\mathbf{x}_k \\|^2 / 2\\sigma_i^2)}$$\n",
    "    - Symmetrize to obtain $P_{ij}$ (where $N$ is the numbe of data points):\n",
    "        $$P_{ij} = \\frac{P_{j|i} + P_{i|j}}{2N}$$\n",
    "2. Model low-dimensional similarities:\n",
    "    - In low-dimensional space, use a Student’s t-distribution with one degree of freedom (Cauchy distribution) for similarity, where $\\mathbf{y}_i$ and $\\mathbf{y}_j$ are low-dimensional embeddings:\n",
    "        $$Q_{ij} = \\frac{(1 + \\| \\mathbf{y}_i - \\mathbf{y}_j \\|^2)^{-1}}{\\sum_{k \\neq l} (1 + \\| \\mathbf{y}_k - \\mathbf{y}_l \\|^2)^{-1}}$$\n",
    "3. Minimize the \"difference\" between the high- and low-dimensional models:\n",
    "    - Minimize the Kullback-Leibler (KL) divergence between the high-dimensional and low-dimensional similarity distributions:\n",
    "        $$\\text{KL}(P \\| Q) = \\sum_{i \\neq j} P_{ij} \\log \\frac{P_{ij}}{Q_{ij}}$$\n",
    "    - This optimization is typically performed using gradient descent."
   ]
  },
  {
   "cell_type": "markdown",
   "metadata": {},
   "source": [
    "##### ❓ Running t-SNE"
   ]
  },
  {
   "cell_type": "markdown",
   "metadata": {},
   "source": [
    "Make a 2-dimensional t-SNE plot using [`scanpy.tl.tsne`](https://scanpy.readthedocs.io/en/stable/generated/scanpy.tl.tsne.html) and [`scanpy.pl.tsne`](https://scanpy.readthedocs.io/en/stable/generated/scanpy.pl.tsne.html) from scanpy.\n",
    "Color the cells based on the sample they belong to."
   ]
  },
  {
   "cell_type": "code",
   "execution_count": 13,
   "metadata": {},
   "outputs": [],
   "source": [
    "# YOUR CODE HERE"
   ]
  },
  {
   "cell_type": "code",
   "execution_count": null,
   "metadata": {},
   "outputs": [],
   "source": [
    "# YOUR CODE HERE"
   ]
  },
  {
   "cell_type": "markdown",
   "metadata": {},
   "source": [
    "# UMAP"
   ]
  },
  {
   "cell_type": "markdown",
   "metadata": {},
   "source": [
    "UMAP (Uniform Manifold Approximation and Projection) is a popular technique for reducing the dimensions of complex data, making it easier to visualize and analyze.\n",
    "\n",
    "The key steps are:\n",
    "1. For each data point, UMAP identifies its closest neighbors based on their positions in the original high-dimensional space.\n",
    "2. UMAP builds a network (graph) where each point is connected to its neighbors with certain strengths, indicating how closely they are related. This graph represents the structure of the data, capturing both local (close neighbors) and some global (overall shape) relationships.\n",
    "3. Next, UMAP starts by placing all points randomly or using a simple layout in the lower-dimensional space.\n",
    "4. Finally, UMAP adjusts the positions of the points in the low-dimensional space to make the new graph (based on these positions) as similar as possible to the original high-dimensional graph. This step ensures that the reduced dimensions accurately represent the structure and relationships of the original data.\n",
    "\n",
    "Further reading:\n",
    "- [McInnes, L., Healy, J., Melville, J. UMAP: Uniform Manifold Approximation and Projection for Dimension Reduction. arXiv 1802.03426 (2018).](https://doi.org/10.48550/arXiv.1802.03426)\n",
    "- [Healy, J., McInnes, L. Uniform manifold approximation and projection. Nat Rev Methods Primers 4, 82 (2024).](https://doi.org/10.1038/s43586-024-00363-x)"
   ]
  },
  {
   "cell_type": "markdown",
   "metadata": {},
   "source": [
    "##### ❓ Running UMAP"
   ]
  },
  {
   "cell_type": "markdown",
   "metadata": {},
   "source": [
    "Make a 2-dimensional UMAP plot using [`sc.pp.neighbors`](https://scanpy.readthedocs.io/en/stable/generated/sc.pp.neighbors.html), [`sc.tl.umap`](https://scanpy.readthedocs.io/en/stable/generated/scanpy.tl.umap.html), and [`sc.pl.umap`](https://scanpy.readthedocs.io/en/stable/generated/sc.pl.umap.html) from scanpy.\n",
    "Color the cells based on the sample they belong to."
   ]
  },
  {
   "cell_type": "code",
   "execution_count": 15,
   "metadata": {},
   "outputs": [],
   "source": [
    "# YOUR CODE HERE"
   ]
  },
  {
   "cell_type": "code",
   "execution_count": 16,
   "metadata": {},
   "outputs": [],
   "source": [
    "# YOUR CODE HERE"
   ]
  },
  {
   "cell_type": "code",
   "execution_count": null,
   "metadata": {},
   "outputs": [],
   "source": [
    "# YOUR CODE HERE"
   ]
  },
  {
   "cell_type": "markdown",
   "metadata": {},
   "source": [
    "# Genes of Interest"
   ]
  },
  {
   "cell_type": "markdown",
   "metadata": {},
   "source": [
    "To further investigate cell type-specific responses to COVID-19, let's plot some marker genes for different cell types onto the UMAP embeddings.\n",
    "\n",
    "Markers                  | Cell Type\n",
    "--                       | --\n",
    "CD3E                     | T cells\n",
    "CD3E, CD4                | CD4+ T cells\n",
    "CD3E, CD8A               | CD8+ T cells\n",
    "GNLY, NKG7               | NK cells\n",
    "MS4A1                    | B cells\n",
    "CD14, LYZ, CST3, MS4A7   | CD14+ Monocytes\n",
    "FCGR3A, LYZ, CST3, MS4A7 | FCGR3A+ Monocytes\n",
    "FCER1A, CST3             | DCs"
   ]
  },
  {
   "cell_type": "markdown",
   "metadata": {},
   "source": [
    "##### ❓ Filtering for genes of interest"
   ]
  },
  {
   "cell_type": "markdown",
   "metadata": {},
   "source": [
    "Not all of the genes of interest are included in our data, since we reduced it to only contain highly variable genes.\n",
    "\n",
    "Make a list of genes of interest (from the table above) that are also highly variable."
   ]
  },
  {
   "cell_type": "code",
   "execution_count": null,
   "metadata": {},
   "outputs": [],
   "source": [
    "interest_genes = [\n",
    "    \"CD3E\",\n",
    "    \"CD4\",\n",
    "    \"CD8A\",\n",
    "    \"GNLY\",\n",
    "    \"NKG7\",\n",
    "    \"MS4A1\",\n",
    "    \"CD14\",\n",
    "    \"LYZ\",\n",
    "    \"CST3\",\n",
    "    \"MS4A7\",\n",
    "    \"FCGR3A\",\n",
    "]\n",
    "\n",
    "# YOUR CODE HERE\n",
    "\n",
    "print(f\"Genes of interest in highly variable genes: {interest_var_genes}\")"
   ]
  },
  {
   "cell_type": "markdown",
   "metadata": {},
   "source": [
    "##### ❓ Visualizing marker genes in the UMAP embedding"
   ]
  },
  {
   "cell_type": "markdown",
   "metadata": {},
   "source": [
    "Use [`sc.pl.umap`](https://scanpy.readthedocs.io/en/stable/api/generated/scanpy.pl.umap.html) to make scatter plots in the UMAP basis, where cells are colored according the the expressions of the marker genes.\n",
    "Use `use_raw=False` in `sc.pl.umap`."
   ]
  },
  {
   "cell_type": "code",
   "execution_count": null,
   "metadata": {},
   "outputs": [],
   "source": [
    "# YOUR CODE HERE"
   ]
  },
  {
   "cell_type": "markdown",
   "metadata": {},
   "source": [
    "This side-by-side view helps confirm that the UMAP nicely separates major immune cell populations, with each cluster corresponding to cells of a similar type or state."
   ]
  }
 ],
 "metadata": {
  "kernelspec": {
   "display_name": "Python 3",
   "language": "python",
   "name": "python3"
  },
  "language_info": {
   "codemirror_mode": {
    "name": "ipython",
    "version": 3
   },
   "file_extension": ".py",
   "mimetype": "text/x-python",
   "name": "python",
   "nbconvert_exporter": "python",
   "pygments_lexer": "ipython3",
   "version": "3.12.7"
  }
 },
 "nbformat": 4,
 "nbformat_minor": 2
}
