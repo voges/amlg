{
 "cells": [
  {
   "cell_type": "markdown",
   "metadata": {},
   "source": [
    "# **Pairwise Sequence Alignment**"
   ]
  },
  {
   "cell_type": "markdown",
   "metadata": {},
   "source": [
    "# The Needleman-Wunsch Algorithm"
   ]
  },
  {
   "attachments": {},
   "cell_type": "markdown",
   "metadata": {},
   "source": [
    "The Needleman-Wunsch algorithm finds the optimal *global* alignment (end-to-end) between two sequences.\n",
    "It consists of the following steps:\n",
    "\n",
    "1. Construct the grid\n",
    "2. Choose a scoring system (here we use the original scoring system assigning a score $s$ of 1 to a match, a score $s$ of -1 to a mismatch, and a score $d$ of -1 to a gap/indel)\n",
    "3. Fill in the scoring matrix $F$ (and construct the pointer matrix on the way)\n",
    "4. Use the pointer matrix to perform a traceback to recover the optimal warping path\n",
    "\n",
    "The scores in the scoring matrix $F$ are computed using the already existing scores in the left, top-left, and top cells:\n",
    "\n",
    "$$\n",
    "F(i,j)=\\max\n",
    "\\begin{cases}\n",
    "    F(i-1,j-1)+s(x_i,y_i),\\\\\n",
    "    F(i-1,j)+d,\\\\\n",
    "    F(i,j-1)+d.\n",
    "\\end{cases}\n",
    "$$\n",
    "\n",
    "The following image illustrates the scoring and pointer matrices.\n",
    "\n",
    "<img src=\"images/nw_matrix.png\" width=\"500\" />"
   ]
  },
  {
   "cell_type": "markdown",
   "metadata": {},
   "source": [
    "We can use the `make_align()` function from our `alignment` module to generate an `align()` function that performs the Needleman-Wunsch algorithm."
   ]
  },
  {
   "cell_type": "code",
   "execution_count": null,
   "metadata": {},
   "outputs": [],
   "source": [
    "import alignment as aln\n",
    "\n",
    "x = \"GATTACA\"\n",
    "y = \"CATACCCA\"\n",
    "\n",
    "align = aln.make_align(mode=\"global\")\n",
    "x_aln, y_aln, warp_path_x, warp_path_y, scoring_mat = align(seq_a=x, seq_b=y)"
   ]
  },
  {
   "cell_type": "markdown",
   "metadata": {},
   "source": [
    "We can also plot the alignment together with the scoring matrix:"
   ]
  },
  {
   "cell_type": "code",
   "execution_count": null,
   "metadata": {},
   "outputs": [],
   "source": [
    "import matplotlib.pyplot as plt  # type: ignore\n",
    "\n",
    "plt.imshow(X=scoring_mat)\n",
    "plt.plot(warp_path_y, warp_path_x, \"w\")\n",
    "plt.xticks(ticks=range(len(y)), labels=y)\n",
    "plt.yticks(ticks=range(len(x)), labels=x)\n",
    "plt.show()"
   ]
  },
  {
   "cell_type": "markdown",
   "metadata": {},
   "source": [
    "# The Smith-Waterman Algorithm"
   ]
  },
  {
   "attachments": {},
   "cell_type": "markdown",
   "metadata": {},
   "source": [
    "The Smith-Waterman algorithm finds the optimal *local* alignment between two sequences.\n",
    "It is a variation of the Needleman-Wunsch algorithm.\n",
    "\n",
    "The three main differences are:\n",
    "\n",
    "|                | Smith-Waterman algorithm                                | Needleman-Wunsch algorithm                                                 |\n",
    "|----------------|---------------------------------------------------------|----------------------------------------------------------------------------|\n",
    "| Initialization | First row/column = 0                                    | First row/column subject to gap penalty                                    |\n",
    "| Scoring        | Negative scores are set to 0                            | Scores can be negative                                                     |\n",
    "| Traceback      | Begin with the highest score, end when 0 is encountered | Begin with the cell at the lower right of the matrix, end at top left cell |"
   ]
  },
  {
   "cell_type": "markdown",
   "metadata": {},
   "source": [
    "Again, with our `alignment` module, we can perform the local alignment between the sequences `GATACCA` and `NNNNNNNNNNGATTACANNNNNNNNGATNNNNNNNNN`."
   ]
  },
  {
   "cell_type": "code",
   "execution_count": null,
   "metadata": {},
   "outputs": [],
   "source": [
    "x = \"GATACCA\"\n",
    "y = \"NNNNNNNNNNGATTACANNNNNNNNGATNNNNNNNNN\"\n",
    "\n",
    "align = aln.make_align(mode=\"local\")\n",
    "x_aln, y_aln, warp_path_x, warp_path_y, scoring_mat = align(seq_a=x, seq_b=y)\n",
    "\n",
    "plt.figure(figsize=(15, 8))\n",
    "plt.imshow(X=scoring_mat)\n",
    "plt.xticks(ticks=range(len(y)), labels=y)\n",
    "plt.yticks(ticks=range(len(x)), labels=x)\n",
    "plt.plot(warp_path_y, warp_path_x, \"w\")\n",
    "plt.show()"
   ]
  },
  {
   "cell_type": "markdown",
   "metadata": {},
   "source": [
    "# Read Alignment"
   ]
  },
  {
   "cell_type": "markdown",
   "metadata": {},
   "source": [
    "We can also simulate the alignment of many reads originating from e.g., a bulk DNA sequencing experiment."
   ]
  },
  {
   "cell_type": "markdown",
   "metadata": {},
   "source": [
    "##### ❓ Sampling reads from a reference sequence"
   ]
  },
  {
   "cell_type": "markdown",
   "metadata": {},
   "source": [
    "Simulate the generation of a number of reads, by sampling 5 reads from the reference sequence `GATTTGGGGTTCAAAGCAGTATCGATCAAATAGTAAATCCATTTGTTCAACTCACAGTTTA`."
   ]
  },
  {
   "cell_type": "code",
   "execution_count": null,
   "metadata": {},
   "outputs": [],
   "source": [
    "import random\n",
    "\n",
    "reference_sequence = \"GATTTGGGGTTCAAAGCAGTATCGATCAAATAGTAAATCCATTTGTTCAACTCACAGTTTA\"\n",
    "\n",
    "n_reads = 20\n",
    "min_read_len = 15\n",
    "max_read_len = 25\n",
    "\n",
    "reads = []\n",
    "\n",
    "while len(reads) < n_reads:\n",
    "    range_acquired = False\n",
    "    while not range_acquired:\n",
    "        # YOUR CODE\n",
    "\n",
    "print(reads)"
   ]
  },
  {
   "cell_type": "markdown",
   "metadata": {},
   "source": [
    "##### ❓ Adding noise to the sampled reads"
   ]
  },
  {
   "cell_type": "markdown",
   "metadata": {},
   "source": [
    "Add some noise to the sampled reads."
   ]
  },
  {
   "cell_type": "code",
   "execution_count": null,
   "metadata": {},
   "outputs": [],
   "source": [
    "def add_noise(read: str, noiselessness: int = 4) -> tuple[str, int]:\n",
    "    \"\"\"Add noise to a read.\"\"\"\n",
    "    choices = [\"A\", \"C\", \"G\", \"T\"]\n",
    "    n_noisy_bases = 0\n",
    "    noisy_read = \"\"\n",
    "    for base in read:\n",
    "        # YOUR CODE\n",
    "    return noisy_read, n_noisy_bases\n",
    "\n",
    "\n",
    "noisy_reads = []\n",
    "for read in reads:\n",
    "    noisy_read, n_noisy_bases = add_noise(read=read, noiselessness=3)\n",
    "    print(f\"Added {n_noisy_bases:2} noisy base(s): {read:10s} -> {noisy_read:10s}\")\n",
    "    noisy_reads.append(noisy_read)"
   ]
  },
  {
   "cell_type": "markdown",
   "metadata": {},
   "source": [
    "##### ❓ Aligning reads"
   ]
  },
  {
   "cell_type": "markdown",
   "metadata": {},
   "source": [
    "Use the `make_align()` function from the `alignment` module to generate an `align()` function to align the noisy reads locally to the reference sequence."
   ]
  },
  {
   "cell_type": "code",
   "execution_count": null,
   "metadata": {},
   "outputs": [],
   "source": [
    "mapping_positions = []\n",
    "aligned_reads = []\n",
    "\n",
    "for read in noisy_reads:\n",
    "    # YOUR CODE\n",
    "\n",
    "    mapping_position = warp_path_ref[0]\n",
    "    aligned_read = \"\".join(read_aln)\n",
    "    mapping_positions.append(mapping_position)\n",
    "    aligned_reads.append(aligned_read)\n",
    "\n",
    "    print(f\"Read                      : {read}\")\n",
    "    print(f\"Mapping position (0-based): {mapping_position}\")\n",
    "    print(f\"Aligned read              : {aligned_read}\")\n",
    "    aligned_read_without_gaps = list(filter(lambda elem: elem != \"-\", read_aln))\n",
    "    print(f\"Aligned read w/o gaps     : {''.join(aligned_read_without_gaps)}\")\n",
    "    print(f\"Number of clipped bases   : {len(read) - len(aligned_read_without_gaps)}\")\n",
    "    print(\n",
    "        f\"Reference subsequence     : \"\n",
    "        f\"{reference_sequence[warp_path_ref[0] : (warp_path_ref[-1] + 1)]}\"\n",
    "    )\n",
    "\n",
    "    plt.figure(figsize=(15, 8))\n",
    "    plt.imshow(X=scoring_mat)\n",
    "    plt.plot(warp_path_ref, warp_path_read, \"w\")\n",
    "    plt.xticks(ticks=range(len(reference_sequence)), labels=reference_sequence)\n",
    "    plt.yticks(ticks=range(len(read)), labels=read)\n",
    "    plt.show()"
   ]
  },
  {
   "cell_type": "markdown",
   "metadata": {},
   "source": [
    "We now have the following set of aligned reads:"
   ]
  },
  {
   "cell_type": "code",
   "execution_count": null,
   "metadata": {},
   "outputs": [],
   "source": [
    "print(f\"Reference: {reference_sequence}\")\n",
    "for i, (pos, seq) in enumerate(zip(mapping_positions, aligned_reads)):\n",
    "    print(f\"Read {i:4}: {' ' * pos}{seq}\")"
   ]
  },
  {
   "cell_type": "markdown",
   "metadata": {},
   "source": [
    "# Variant Calling"
   ]
  },
  {
   "cell_type": "markdown",
   "metadata": {},
   "source": [
    "Variant calling is a crucial step in analyzing DNA sequence data to identify differences or variations in the genetic code of individuals.\n",
    "This process involves comparing an individual's DNA sequence (in the form of aligned reads) to a reference sequence to pinpoint variations such as single nucleotide polymorphisms (SNPs), insertions, deletions, and structural alterations.\n",
    "\n",
    "While there exist many sophisticated variant calling algorithms such as [GATK](https://gatk.broadinstitute.org)'s [HaplotypeCaller](https://gatk.broadinstitute.org/hc/en-us/articles/360037225632-HaplotypeCaller), we will here focus on SNPs only and perform a simple majority voting per locus."
   ]
  },
  {
   "cell_type": "markdown",
   "metadata": {},
   "source": [
    "##### ❓ SNP calling via majority vote"
   ]
  },
  {
   "cell_type": "markdown",
   "metadata": {},
   "source": [
    "Complete the following code to call SNPs via majority voting."
   ]
  },
  {
   "cell_type": "code",
   "execution_count": null,
   "metadata": {},
   "outputs": [],
   "source": [
    "from collections import Counter\n",
    "\n",
    "pileups = [[] for _ in range(len(reference_sequence))]\n",
    "snps = {}\n",
    "\n",
    "# Accumulate the pileups.\n",
    "for pos, seq in zip(mapping_positions, aligned_reads):\n",
    "    # YOUR CODE\n",
    "\n",
    "# SNP calling via majority voting.\n",
    "print(\"POS   REF   MAJ   SNP   PILEUP\")\n",
    "for i, pileup in enumerate(pileups):\n",
    "    majority_base = \"\"\n",
    "    snp = \"-\"\n",
    "\n",
    "    # Make a pileup string.\n",
    "    pileup = \"\".join(pileup)\n",
    "\n",
    "    # We can only call variants for non-empty pileups.\n",
    "    if pileup:\n",
    "        # YOUR CODE\n",
    "\n",
    "    # Call it if it's a SNP.\n",
    "    if majority_base != \"-\" and majority_base != reference_sequence[i]:\n",
    "        snp = majority_base\n",
    "        snps[i] = snp\n",
    "\n",
    "    print(f\"{i:3}   {reference_sequence[i]:3}   {majority_base:3}   {snp:3}   {pileup}\")"
   ]
  },
  {
   "cell_type": "code",
   "execution_count": null,
   "metadata": {},
   "outputs": [],
   "source": [
    "# List all SNPs.\n",
    "print(\"POS   SNP\")\n",
    "for pos, snp in snps.items():\n",
    "    print(f\"{pos:3}   {snp:3}\")"
   ]
  }
 ],
 "metadata": {
  "kernelspec": {
   "display_name": "Python 3",
   "language": "python",
   "name": "python3"
  },
  "language_info": {
   "codemirror_mode": {
    "name": "ipython",
    "version": 3
   },
   "file_extension": ".py",
   "mimetype": "text/x-python",
   "name": "python",
   "nbconvert_exporter": "python",
   "pygments_lexer": "ipython3",
   "version": "3.12.10"
  },
  "orig_nbformat": 4
 },
 "nbformat": 4,
 "nbformat_minor": 2
}
