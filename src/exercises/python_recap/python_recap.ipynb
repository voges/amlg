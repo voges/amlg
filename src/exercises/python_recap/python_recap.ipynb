{
 "cells": [
  {
   "cell_type": "markdown",
   "id": "df73d8e3-de80-4bbf-84fd-b0b6b280215c",
   "metadata": {},
   "source": [
    "# **Python Recap**"
   ]
  },
  {
   "cell_type": "markdown",
   "id": "b328da6e",
   "metadata": {},
   "source": [
    "##### ❓ Hello, AMLG!"
   ]
  },
  {
   "cell_type": "markdown",
   "id": "2d08d4e2",
   "metadata": {},
   "source": [
    "First things first: Print the string \"`Hello, AMLG!`\"."
   ]
  },
  {
   "cell_type": "code",
   "execution_count": 1,
   "id": "48dc3804",
   "metadata": {},
   "outputs": [
    {
     "name": "stdout",
     "output_type": "stream",
     "text": [
      "Hello, AMLG!\n"
     ]
    }
   ],
   "source": [
    "print(\"Hello, AMLG!\")"
   ]
  },
  {
   "cell_type": "markdown",
   "id": "cb7ca76b",
   "metadata": {},
   "source": [
    "# Python 3's F-Strings"
   ]
  },
  {
   "cell_type": "markdown",
   "id": "045ee13b",
   "metadata": {},
   "source": [
    "As of Python 3.6, f-strings are a great new way to format strings.\n",
    "Not only are they more readable, more concise, and less prone to errors than other ways of formatting, but they are also faster!\n",
    "\n",
    "Before Python 3.6, you had two main ways of embedding Python expressions inside string literals for formatting: `%`-formatting and `str.format()`."
   ]
  },
  {
   "cell_type": "markdown",
   "id": "85095568",
   "metadata": {},
   "source": [
    "## `%`-Formatting"
   ]
  },
  {
   "cell_type": "markdown",
   "id": "cdb70767",
   "metadata": {},
   "source": [
    "`%`-formatting (or [`printf`-style formatting](https://docs.python.org/3/library/stdtypes.html#printf-style-string-formatting)) has been in the language since the very beginning.\n",
    "\n",
    "String objects have a built-in operation using the `%` operator, which you can use to format strings.\n",
    "\n",
    "Here's how that would look in practice:"
   ]
  },
  {
   "cell_type": "code",
   "execution_count": 2,
   "id": "81e09127",
   "metadata": {},
   "outputs": [
    {
     "name": "stdout",
     "output_type": "stream",
     "text": [
      "Hello, Alice.\n"
     ]
    }
   ],
   "source": [
    "name = \"Alice\"\n",
    "greeting = \"Hello, %s.\" % name\n",
    "print(greeting)"
   ]
  },
  {
   "cell_type": "markdown",
   "id": "7a722217",
   "metadata": {},
   "source": [
    "To insert more than one variable, you must use a tuple of those variables.\n",
    "\n",
    "> A [**tuple**](https://docs.python.org/3/library/stdtypes.html#tuple) (see also [this explanation](https://docs.python.org/3/tutorial/datastructures.html#tuples-and-sequences)) is one of Python's standard sequence data types (the other ones being [list](https://docs.python.org/3/library/stdtypes.html#list) and [range](https://docs.python.org/3/library/stdtypes.html#range)).\n",
    "> It consists of a number of values separated by commas.\n",
    "> Usually, tuples are enclosed in parentheses (`()`), so that nested tuples are interpreted correctly; they may be input with or without surrounding parentheses, although often parentheses are necessary anyway.\n",
    "> Though tuples may seem similar to lists, they are often used in different situations and for different purposes.\n",
    "> Tuples are [immutable](https://docs.python.org/3/glossary.html#term-immutable), and usually contain a heterogeneous sequence of elements.)"
   ]
  },
  {
   "cell_type": "markdown",
   "id": "24768501",
   "metadata": {},
   "source": [
    "##### ❓ `%`-formatting"
   ]
  },
  {
   "cell_type": "markdown",
   "id": "e8bff883",
   "metadata": {},
   "source": [
    "Complete the `greeting` using `%`-formatting such that it becomes \"`Hello, Alice. You are 42.`\"."
   ]
  },
  {
   "cell_type": "code",
   "execution_count": 3,
   "id": "ddff1f55",
   "metadata": {},
   "outputs": [
    {
     "name": "stdout",
     "output_type": "stream",
     "text": [
      "Hello, Alice. You are 42.\n"
     ]
    }
   ],
   "source": [
    "name = \"Alice\"\n",
    "age = 42\n",
    "greeting = \"Hello, %s. You are %d.\" % (name, age)\n",
    "print(greeting)"
   ]
  },
  {
   "cell_type": "markdown",
   "id": "bfea5d78",
   "metadata": {},
   "source": [
    "## `str.format()`"
   ]
  },
  {
   "cell_type": "markdown",
   "id": "64eb1f44",
   "metadata": {},
   "source": [
    "The code examples that you just saw above are readable enough.\n",
    "However, once you start using several parameters and longer strings, your code will quickly become much less easily readable.\n",
    "\n",
    "This newer way of getting the job done&nbsp;&mdash;&nbsp;`str.format()`&nbsp;&mdash;&nbsp;was introduced in Python 2.6.\n",
    "`str.format()` is an improvement on `%`-formatting.\n",
    "It uses normal function call syntax and is extensible through the `__format__()` method on the object being converted to a string.\n",
    "\n",
    "With `str.format()`, the replacement fields are marked by curly braces:"
   ]
  },
  {
   "cell_type": "code",
   "execution_count": 4,
   "id": "926eeb30",
   "metadata": {},
   "outputs": [
    {
     "name": "stdout",
     "output_type": "stream",
     "text": [
      "Hello, Alice. You are 42.\n"
     ]
    }
   ],
   "source": [
    "name = \"Alice\"\n",
    "age = 42\n",
    "print(\"Hello, {}. You are {}.\".format(name, age))"
   ]
  },
  {
   "cell_type": "markdown",
   "id": "73d47ce8",
   "metadata": {},
   "source": [
    "## F-Strings"
   ]
  },
  {
   "cell_type": "markdown",
   "id": "80196a19",
   "metadata": {},
   "source": [
    "Code using `str.format()` is much more easily readable than code using `%`-formatting, but `str.format()` can still be quite verbose when you are dealing with multiple parameters and longer strings.\n",
    "\n",
    "The good news is that f-strings are here to save the day.\n",
    "They joined the party in Python 3.6.\n",
    "You can read all about it in [PEP 498](https://peps.python.org/pep-0498/).\n",
    "\n",
    "Also called \"[formatted string literals](https://docs.python.org/3/reference/lexical_analysis.html#f-strings)\", f-strings are string literals that have an `f` (it would also be valid to use a capital letter `F`) at the beginning and curly braces containing expressions that will be replaced with their values.\n",
    "The expressions are evaluated at runtime and then formatted using the `__format__` protocol.\n",
    "\n",
    "The syntax is similar to the one you used with `str.format()` but less verbose:"
   ]
  },
  {
   "cell_type": "code",
   "execution_count": 5,
   "id": "d29bec32",
   "metadata": {},
   "outputs": [
    {
     "name": "stdout",
     "output_type": "stream",
     "text": [
      "Hello, Alice. You are 42.\n"
     ]
    }
   ],
   "source": [
    "name = \"Alice\"\n",
    "age = 42\n",
    "greeting = f\"Hello, {name}. You are {age}.\"\n",
    "print(greeting)"
   ]
  },
  {
   "cell_type": "markdown",
   "id": "eb938ff8",
   "metadata": {},
   "source": [
    "Because f-strings are evaluated at runtime, you can put any valid Python expressions in them."
   ]
  },
  {
   "cell_type": "markdown",
   "id": "a3ec3ad0",
   "metadata": {},
   "source": [
    "##### ❓ Formatting with f-strings"
   ]
  },
  {
   "cell_type": "markdown",
   "id": "601fce0d",
   "metadata": {},
   "source": [
    "Define and implement the function `to_lowercase()` that converts all cased characters in a string to lowercase.\n",
    "Hint: use [`str.lower()`](https://docs.python.org/3/library/stdtypes.html?#str.lower)."
   ]
  },
  {
   "cell_type": "code",
   "execution_count": 6,
   "id": "c702df9b",
   "metadata": {},
   "outputs": [
    {
     "name": "stdout",
     "output_type": "stream",
     "text": [
      "alice idle\n"
     ]
    }
   ],
   "source": [
    "def to_lowercase(input: str) -> str:\n",
    "    \"\"\"Convert a string to lowercase.\"\"\"\n",
    "    return input.lower()\n",
    "\n",
    "\n",
    "name = \"Alice Idle\"\n",
    "print(f\"{to_lowercase(name)}\")"
   ]
  },
  {
   "cell_type": "markdown",
   "id": "524c06ba",
   "metadata": {},
   "source": [
    "##### ❓ F-strings and classes"
   ]
  },
  {
   "cell_type": "markdown",
   "id": "840d8f49",
   "metadata": {},
   "source": [
    "You could even use objects created from classes with f-strings.\n",
    "Implement the [`__str__()`](https://docs.python.org/3/reference/datamodel.html#object.__str__) method of the `Programmer` class.\n",
    "It shall return a human-readable informal string representation of a `Programmer` object."
   ]
  },
  {
   "cell_type": "code",
   "execution_count": 7,
   "id": "4b9dc2d7",
   "metadata": {},
   "outputs": [
    {
     "name": "stdout",
     "output_type": "stream",
     "text": [
      "Alice Idle is 42.\n"
     ]
    }
   ],
   "source": [
    "class Programmer:\n",
    "    \"\"\"A class representing a programmer.\"\"\"\n",
    "\n",
    "    def __init__(self, first_name: str, last_name: str, age: int) -> None:\n",
    "        \"\"\"Initialize the programmer.\"\"\"\n",
    "        self.first_name = first_name\n",
    "        self.last_name = last_name\n",
    "        self.age = age\n",
    "\n",
    "    def __str__(self) -> str:\n",
    "        \"\"\"Return a string representation of the programmer.\"\"\"\n",
    "        return f\"{self.first_name} {self.last_name} is {self.age}.\"\n",
    "\n",
    "\n",
    "new_programmer = Programmer(first_name=\"Alice\", last_name=\"Idle\", age=42)\n",
    "print(f\"{new_programmer}\")"
   ]
  },
  {
   "cell_type": "markdown",
   "id": "13fc1c32",
   "metadata": {},
   "source": [
    "# Variadic Functions"
   ]
  },
  {
   "cell_type": "markdown",
   "id": "957d03b6",
   "metadata": {},
   "source": [
    "When a function has a parameter preceded by an asterisk (`*`), e.g., `*args`, it can accept a variable number of arguments.\n",
    "And you can pass zero, one, or more arguments to the `*args` parameter.\n",
    "In Python, the parameters like `*args` are called variadic parameters.\n",
    "Functions that have variadic parameters are called variadic functions.\n",
    "Note that you don’t need to use the name `*args` for a variadic parameter.\n",
    "For example, you can use any meaningful name like `*numbers`, `*strings`, etc.\n",
    "Inside the function the arguments are accessible as a [tuple](https://docs.python.org/3/library/stdtypes.html#tuple)."
   ]
  },
  {
   "cell_type": "markdown",
   "id": "3e9c511c",
   "metadata": {},
   "source": [
    "##### ❓ Variadic functions with tuples as arguments"
   ]
  },
  {
   "cell_type": "markdown",
   "id": "d53a24e6",
   "metadata": {},
   "source": [
    "Implement the function `mean()`.\n",
    "It shall return the arithmetic mean\n",
    "\n",
    "$$\\bar{x} = \\frac{1}{n} \\sum_{i=1}^{n} x_{i}$$\n",
    "\n",
    "of the variable number of elements passed to it."
   ]
  },
  {
   "cell_type": "code",
   "execution_count": 8,
   "id": "d28ee2d3",
   "metadata": {},
   "outputs": [
    {
     "name": "stdout",
     "output_type": "stream",
     "text": [
      "mean = 2.5\n"
     ]
    }
   ],
   "source": [
    "def mean(*elems: float) -> float:\n",
    "    \"\"\"Compute the arithmetic mean of the elements.\"\"\"\n",
    "    return sum(elems) / len(elems)\n",
    "\n",
    "\n",
    "print(f\"mean = {mean(0, 1, 2, 3, 4, 5)}\")"
   ]
  },
  {
   "cell_type": "markdown",
   "id": "1811d56d",
   "metadata": {},
   "source": [
    "##### ❓ Variadic functions with dictionaries as arguments"
   ]
  },
  {
   "cell_type": "markdown",
   "id": "f3dc7fea",
   "metadata": {},
   "source": [
    "Also, when a function has a parameter preceded by _two_ asterisks (`**`), e.g., `**kwargs` (which stands for \"keyword arguments\"), it can accept a keyworded variable number of arguments.\n",
    "Inside the function the arguments are accessible as a [dictionary](https://docs.python.org/3/tutorial/datastructures.html#dictionaries).\n",
    "\n",
    "Implement the function `print_contacts()`.\n",
    "It shall print the contacts in the following format:\n",
    "\n",
    "```\n",
    "Alice: +49 511 123456\n",
    "Bob: +49 511 654321\n",
    "```"
   ]
  },
  {
   "cell_type": "code",
   "execution_count": 9,
   "id": "2bb1294b",
   "metadata": {},
   "outputs": [
    {
     "name": "stdout",
     "output_type": "stream",
     "text": [
      "Alice: +49 511 123456\n",
      "Bob: +49 511 654321\n"
     ]
    }
   ],
   "source": [
    "def print_contacts(**contacts: str) -> None:\n",
    "    \"\"\"Print the contacts dictionary.\"\"\"\n",
    "    for name, contact in contacts.items():\n",
    "        print(f\"{name}: {contact}\")\n",
    "\n",
    "\n",
    "print_contacts(Alice=\"+49 511 123456\", Bob=\"+49 511 654321\")"
   ]
  },
  {
   "cell_type": "markdown",
   "id": "a6f44375",
   "metadata": {},
   "source": [
    "# Plotting With `matplotlib`"
   ]
  },
  {
   "cell_type": "markdown",
   "id": "9d678455",
   "metadata": {},
   "source": [
    "##### ❓ Plotting a sine wave"
   ]
  },
  {
   "cell_type": "markdown",
   "id": "c7e8133a",
   "metadata": {},
   "source": [
    "Plot one period of a sine wave using the function [`matplotlib.pyplot.plot()`](https://matplotlib.org/stable/api/_as_gen/matplotlib.pyplot.plot.html).\n",
    "Sample the sine function at 1000 equally-distributed locations in the half-open interval $[0,1)$ ($0$ _is_ inclusive, $1$ is _not_).\n",
    "Hint: use [`math.sin()`](https://docs.python.org/3/library/math.html#trigonometric-functions) to obtain the sine values at the sample locations."
   ]
  },
  {
   "cell_type": "code",
   "execution_count": 10,
   "id": "e680a743",
   "metadata": {},
   "outputs": [
    {
     "data": {
      "image/png": "[encoded data removed]",
      "text/plain": [
       "<Figure size 640x480 with 1 Axes>"
      ]
     },
     "metadata": {},
     "output_type": "display_data"
    }
   ],
   "source": [
    "import math\n",
    "\n",
    "import matplotlib.pyplot as plt\n",
    "\n",
    "sample_locs = [x / 1000 for x in range(1000)]\n",
    "sine_vals = [math.sin(2 * math.pi * s) for s in sample_locs]\n",
    "plt.plot(sample_locs, sine_vals, linestyle=\"--\")\n",
    "plt.show()"
   ]
  },
  {
   "cell_type": "markdown",
   "id": "1bcf59a8",
   "metadata": {},
   "source": [
    "# A First Glimpse Into the Machine Learning World With `scikit-learn`'s `DecisionTreeClassifier`"
   ]
  },
  {
   "cell_type": "markdown",
   "id": "c1417972",
   "metadata": {},
   "source": [
    "The following example uses the [_Iris_](http://scikit-learn.org/stable/auto_examples/datasets/plot_iris_dataset.html) dataset.\n",
    "This dataset consists of the petal and sepal lengths of three species of _Iris_ (_I. setosa_, _I. versicolor_, _I. virginica_).\n",
    "\n",
    "<img src=\"images/Iris_germanica.jpg\" width=\"200\" />\n",
    "\n",
    "> Petals are modified leaves that surround the reproductive parts of flowers.\n",
    "> Petals are usually accompanied by another set of modified leaves called sepals.\n",
    "\n",
    "<img src=\"images/petal_sepal.jpg\" width=\"200\" />\n",
    "\n",
    "The following code is about training a [decision tree](https://scikit-learn.org/stable/modules/generated/sklearn.tree.DecisionTreeClassifier.html) to classify _Iris_ samples into the species (i.e., classes) according to the dimensions (length, width) of their petals and sepals."
   ]
  },
  {
   "cell_type": "code",
   "execution_count": 11,
   "id": "9bfad831",
   "metadata": {},
   "outputs": [],
   "source": [
    "import sklearn.datasets\n",
    "import sklearn.tree\n",
    "\n",
    "# This dataset consists of the petal and sepal lengths of three species of Iris\n",
    "# (I. setosa, I. versicolor, I. virginica) stored in a 150x4 numpy.ndarray.\n",
    "iris = sklearn.datasets.load_iris()\n",
    "\n",
    "# Access the data and target attributes.\n",
    "X = iris.data  # type: ignore\n",
    "y = iris.target  # type: ignore\n",
    "\n",
    "# Train a decision tree using the entropy as splitting criterion. To obtain a\n",
    "# deterministic behaviour during fitting we set random_state=0.\n",
    "clf = sklearn.tree.DecisionTreeClassifier(criterion=\"entropy\", random_state=0)\n",
    "clf = clf.fit(X=X, y=y)"
   ]
  },
  {
   "cell_type": "markdown",
   "id": "f92401d3",
   "metadata": {},
   "source": [
    "##### ❓ Classifying using a decision tree"
   ]
  },
  {
   "cell_type": "markdown",
   "id": "8f3e9681",
   "metadata": {},
   "source": [
    "Classify the test sample using the [`predict()`](https://scikit-learn.org/stable/modules/generated/sklearn.tree.DecisionTreeClassifier.html#sklearn.tree.DecisionTreeClassifier.predict) function of `sklearn.tree.DecisionTreeClassifier`."
   ]
  },
  {
   "cell_type": "code",
   "execution_count": 12,
   "id": "5158b6e1",
   "metadata": {},
   "outputs": [
    {
     "name": "stdout",
     "output_type": "stream",
     "text": [
      "The Iris with ['sepal length (cm)', 'sepal width (cm)', 'petal length (cm)', 'petal width (cm)'] = [5, 3, 1, 0] belongs to species I. setosa.\n"
     ]
    }
   ],
   "source": [
    "test_samples = [[5, 3, 1, 0]]\n",
    "\n",
    "test_classes = clf.predict(X=test_samples)\n",
    "\n",
    "feature_names = iris.feature_names  # type: ignore\n",
    "target_names = iris.target_names  # type: ignore\n",
    "\n",
    "print(\n",
    "    f\"The Iris with {feature_names} = {test_samples[0]} belongs to \"\n",
    "    f\"species I. {target_names[test_classes[0]]}.\"\n",
    ")"
   ]
  },
  {
   "cell_type": "markdown",
   "id": "a29ec6a4",
   "metadata": {},
   "source": [
    "Finally, we can visualize the learned tree as text:"
   ]
  },
  {
   "cell_type": "code",
   "execution_count": 13,
   "id": "a2c7d0f3",
   "metadata": {},
   "outputs": [
    {
     "name": "stdout",
     "output_type": "stream",
     "text": [
      "|--- petal width (cm) <= 0.80\n",
      "|   |--- class: 0\n",
      "|--- petal width (cm) >  0.80\n",
      "|   |--- petal width (cm) <= 1.75\n",
      "|   |   |--- petal length (cm) <= 4.95\n",
      "|   |   |   |--- petal width (cm) <= 1.65\n",
      "|   |   |   |   |--- class: 1\n",
      "|   |   |   |--- petal width (cm) >  1.65\n",
      "|   |   |   |   |--- class: 2\n",
      "|   |   |--- petal length (cm) >  4.95\n",
      "|   |   |   |--- petal width (cm) <= 1.55\n",
      "|   |   |   |   |--- class: 2\n",
      "|   |   |   |--- petal width (cm) >  1.55\n",
      "|   |   |   |   |--- petal length (cm) <= 5.45\n",
      "|   |   |   |   |   |--- class: 1\n",
      "|   |   |   |   |--- petal length (cm) >  5.45\n",
      "|   |   |   |   |   |--- class: 2\n",
      "|   |--- petal width (cm) >  1.75\n",
      "|   |   |--- petal length (cm) <= 4.85\n",
      "|   |   |   |--- sepal width (cm) <= 3.10\n",
      "|   |   |   |   |--- class: 2\n",
      "|   |   |   |--- sepal width (cm) >  3.10\n",
      "|   |   |   |   |--- class: 1\n",
      "|   |   |--- petal length (cm) >  4.85\n",
      "|   |   |   |--- class: 2\n",
      "\n"
     ]
    }
   ],
   "source": [
    "print(sklearn.tree.export_text(decision_tree=clf, feature_names=feature_names))"
   ]
  },
  {
   "cell_type": "markdown",
   "id": "d3572147",
   "metadata": {},
   "source": [
    "Or we can visualize the tree as an image:"
   ]
  },
  {
   "cell_type": "code",
   "execution_count": 14,
   "id": "bcfbc946",
   "metadata": {},
   "outputs": [
    {
     "data": {
      "image/png": "[encoded data removed]",
      "text/plain": [
       "<Figure size 640x480 with 1 Axes>"
      ]
     },
     "metadata": {},
     "output_type": "display_data"
    }
   ],
   "source": [
    "sklearn.tree.plot_tree(decision_tree=clf)\n",
    "plt.show()"
   ]
  }
 ],
 "metadata": {
  "kernelspec": {
   "display_name": "Python 3",
   "language": "python",
   "name": "python3"
  },
  "language_info": {
   "codemirror_mode": {
    "name": "ipython",
    "version": 3
   },
   "file_extension": ".py",
   "mimetype": "text/x-python",
   "name": "python",
   "nbconvert_exporter": "python",
   "pygments_lexer": "ipython3",
   "version": "3.12.7"
  }
 },
 "nbformat": 4,
 "nbformat_minor": 5
}
